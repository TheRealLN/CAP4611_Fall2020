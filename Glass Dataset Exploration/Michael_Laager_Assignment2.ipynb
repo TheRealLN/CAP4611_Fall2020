{
  "nbformat": 4,
  "nbformat_minor": 0,
  "metadata": {
    "colab": {
      "name": "CAP4611_HW2.ipynb",
      "provenance": [],
      "collapsed_sections": []
    },
    "kernelspec": {
      "name": "python3",
      "display_name": "Python 3"
    }
  },
  "cells": [
    {
      "cell_type": "markdown",
      "metadata": {
        "id": "VShmoWP2TYxG"
      },
      "source": [
        "# CAP 4611: Homework 2\n",
        "\n"
      ]
    },
    {
      "cell_type": "code",
      "metadata": {
        "id": "W8wkmBUiRoOu"
      },
      "source": [
        "import numpy as np\n",
        "import pandas as pd\n",
        "import matplotlib.pyplot as plt"
      ],
      "execution_count": 83,
      "outputs": []
    },
    {
      "cell_type": "markdown",
      "metadata": {
        "id": "NuB2Am0bTcwr"
      },
      "source": [
        "## Part I - The Dataset\n",
        "This assignemnt features the glass dataset from UCI's ML repository. This dataset consists of 214 datapoints, each with 9 features *(#2-10 below)*. The following is a description of the elements for each datapoint, from the repository's description file `glass.names`:\n",
        "\n",
        "1. ID: Each datapoint is given a unique id from 1-214.\n",
        "2. RI: Refractive index\n",
        "3. Na: Sodium\n",
        "4. Mg: Magnesium\n",
        "5. Al: Aluminum\n",
        "6. Si: Silicon\n",
        "7. K: Potassium\n",
        "8. Ca: Calcium\n",
        "9. Ba: Barium\n",
        "10. Fe: Iron\n",
        "11. Type of glass: (the classes)\n",
        "      - 1: building_windows_float_processed\n",
        "      - 2: building_windows_non_float_processed\n",
        "      - 3: vehicle_windows_float_processed\n",
        "      - 4: vehicle_windows_non_float_processed (none in this database)\n",
        "      - 5: containers\n",
        "      - 6: tableware\n",
        "      - 7: headlamps"
      ]
    },
    {
      "cell_type": "code",
      "metadata": {
        "id": "qBNh-bx9R0_e",
        "outputId": "50bff908-6c3a-4a0b-a00a-010e2284c022",
        "colab": {
          "base_uri": "https://localhost:8080/",
          "height": 271
        }
      },
      "source": [
        "url = \"https://archive.ics.uci.edu/ml/machine-learning-databases/glass/glass.data\"\n",
        "feature_names = [\"id\",\"RI\",\"Na\",\"Mg\",\"Al\",\"Si\",\"K\",\"Ca\",\"Ba\",\"Fe\",\"glass_type\"]\n",
        "class_names = [\"building_windows_fp\",\"building_windows_nfp\",\"vehicle_windows_fp\",\n",
        "               \"vehicle_windows_nfp\",\"containers\",\"tableware\",\"headlamps\"]\n",
        "glass_dataset = pd.read_csv(url, names=feature_names)\n",
        "print(glass_dataset)"
      ],
      "execution_count": 84,
      "outputs": [
        {
          "output_type": "stream",
          "text": [
            "      id       RI     Na    Mg    Al     Si     K    Ca    Ba   Fe  glass_type\n",
            "0      1  1.52101  13.64  4.49  1.10  71.78  0.06  8.75  0.00  0.0           1\n",
            "1      2  1.51761  13.89  3.60  1.36  72.73  0.48  7.83  0.00  0.0           1\n",
            "2      3  1.51618  13.53  3.55  1.54  72.99  0.39  7.78  0.00  0.0           1\n",
            "3      4  1.51766  13.21  3.69  1.29  72.61  0.57  8.22  0.00  0.0           1\n",
            "4      5  1.51742  13.27  3.62  1.24  73.08  0.55  8.07  0.00  0.0           1\n",
            "..   ...      ...    ...   ...   ...    ...   ...   ...   ...  ...         ...\n",
            "209  210  1.51623  14.14  0.00  2.88  72.61  0.08  9.18  1.06  0.0           7\n",
            "210  211  1.51685  14.92  0.00  1.99  73.06  0.00  8.40  1.59  0.0           7\n",
            "211  212  1.52065  14.36  0.00  2.02  73.42  0.00  8.44  1.64  0.0           7\n",
            "212  213  1.51651  14.38  0.00  1.94  73.61  0.00  8.48  1.57  0.0           7\n",
            "213  214  1.51711  14.23  0.00  2.08  73.36  0.00  8.62  1.67  0.0           7\n",
            "\n",
            "[214 rows x 11 columns]\n"
          ],
          "name": "stdout"
        }
      ]
    },
    {
      "cell_type": "markdown",
      "metadata": {
        "id": "A0eJ3qP5bKJq"
      },
      "source": [
        "This will get rid of the useless information (the id) and separate the features from the class labels."
      ]
    },
    {
      "cell_type": "code",
      "metadata": {
        "id": "uloFfCjSX0l-"
      },
      "source": [
        "np_glass = glass_dataset.values\n",
        "features = np_glass[:,1:10]\n",
        "labels = np_glass[:,10]"
      ],
      "execution_count": 85,
      "outputs": []
    },
    {
      "cell_type": "markdown",
      "metadata": {
        "id": "x7oNPZhccQaW"
      },
      "source": [
        "## Part II - Class Priors and Entropy\n",
        "Now we can calculate the priors for each class..."
      ]
    },
    {
      "cell_type": "code",
      "metadata": {
        "id": "mt_8hg31cfW1",
        "outputId": "db930996-1bf0-41a5-84bc-7d02edd65601",
        "colab": {
          "base_uri": "https://localhost:8080/",
          "height": 53
        }
      },
      "source": [
        "class_cnt = np.array([np.count_nonzero(labels == i) for i in range(1,8)])\n",
        "r,c = np_glass.shape\n",
        "priors = class_cnt * 1.0/r\n",
        "\n",
        "print(priors)"
      ],
      "execution_count": 86,
      "outputs": [
        {
          "output_type": "stream",
          "text": [
            "[0.3271028  0.35514019 0.07943925 0.         0.06074766 0.04205607\n",
            " 0.13551402]\n"
          ],
          "name": "stdout"
        }
      ]
    },
    {
      "cell_type": "markdown",
      "metadata": {
        "id": "MXLowUtuh36l"
      },
      "source": [
        "The priors for this set infer that there are many more examples of building windows than any other class (~70% between the two classes), thus making this set *unbalanced*. Also, the fourth class is completely absent from this dataset, representing the most extreme case of unbalancing.\n",
        "\n",
        "Let's see the resulting uncertainness (entropy) of the distribution:"
      ]
    },
    {
      "cell_type": "code",
      "metadata": {
        "id": "Enm2zXQijG9-",
        "outputId": "b2f2e908-0ec4-48be-8100-363fc29c6b17",
        "colab": {
          "base_uri": "https://localhost:8080/",
          "height": 90
        }
      },
      "source": [
        "with np.errstate(divide='ignore'):\n",
        "  entropies = -priors * np.nan_to_num(np.log2(priors), nan=0)\n",
        "print(\"Class Entropies: {}\\n\".format(entropies))\n",
        "print(\"Entropy of Class Prior Distribution: {}\".format(sum(entropies)))"
      ],
      "execution_count": 87,
      "outputs": [
        {
          "output_type": "stream",
          "text": [
            "Class Entropies: [0.5273499  0.53041589 0.29027136 0.         0.24548296 0.19226111\n",
            " 0.39075277]\n",
            "\n",
            "Entropy of Class Prior Distribution: 2.176533992398201\n"
          ],
          "name": "stdout"
        }
      ]
    },
    {
      "cell_type": "markdown",
      "metadata": {
        "id": "_ZPAdsrQlTRX"
      },
      "source": [
        "## Part III: Gaussian Fitting and Naive Bayes\n",
        "\n",
        "In order to learn more about the relationship between the data for each class, now we can fit a gaussian curve for each of the features in the classes. This will done in accordance to their means and standard deviations. The splitting of the classes uses a handy trick from [StackOverflow](https://stackoverflow.com/questions/31863083/python-split-numpy-array-based-on-values-in-the-array \"Split Numpy Array Based on Values in the Array\"), which works since the data is already sorted by label."
      ]
    },
    {
      "cell_type": "code",
      "metadata": {
        "id": "osfctvhtmhZ_"
      },
      "source": [
        "split_features = np.split(features, np.where(np.diff(labels))[0]+1)\n",
        "\n",
        "# Creates a dictionary with the DataFrames for the respective classes\n",
        "gaus_features = {}\n",
        "for i in range(1,8):\n",
        "  # Creates an empty dataframe for the fourth element\n",
        "  if i == 4:\n",
        "    gaus_features[i] = pd.DataFrame(data=np.zeros(shape=(9,2)),\n",
        "                                    columns=['mean','sd'],\n",
        "                                    index=feature_names[1:10])\n",
        "  else:\n",
        "    indx = i-1 if i < 4 else i-2\n",
        "    np_df = np.zeros(shape=(9,2))\n",
        "    # Gets the means for each feature\n",
        "    np_df[:,0] = np.mean(split_features[indx],axis=0)\n",
        "    # Gets the standard deviations for each feature\n",
        "    np_df[:,1] = np.std(split_features[indx],axis=0)\n",
        "    # Puts them into a DataFrame\n",
        "    gaus_features[i] = pd.DataFrame(data=np_df,columns=['mean','sd'],\n",
        "                                    index=feature_names[1:10])"
      ],
      "execution_count": 88,
      "outputs": []
    },
    {
      "cell_type": "markdown",
      "metadata": {
        "id": "F-dKkNFBTyKs"
      },
      "source": [
        "We can now print out the results as such:"
      ]
    },
    {
      "cell_type": "code",
      "metadata": {
        "id": "gf_9bWBfT2Fv",
        "outputId": "1fe24715-c11e-4afe-de63-568dc37d16e6",
        "colab": {
          "base_uri": "https://localhost:8080/",
          "height": 1000
        }
      },
      "source": [
        "for i in range(7):\n",
        "  print(\"{0}. {1}:\".format(i+1,class_names[i]))\n",
        "  print(gaus_features[i+1])\n",
        "  print()"
      ],
      "execution_count": 89,
      "outputs": [
        {
          "output_type": "stream",
          "text": [
            "1. building_windows_fp:\n",
            "         mean        sd\n",
            "RI   1.518718  0.002252\n",
            "Na  13.242286  0.495722\n",
            "Mg   3.552429  0.245272\n",
            "Al   1.163857  0.271200\n",
            "Si  72.619143  0.565402\n",
            "K    0.447429  0.213339\n",
            "Ca   8.797286  0.570686\n",
            "Ba   0.012714  0.083237\n",
            "Fe   0.057000  0.088436\n",
            "\n",
            "2. building_windows_nfp:\n",
            "         mean        sd\n",
            "RI   1.518619  0.003777\n",
            "Na  13.111711  0.659775\n",
            "Mg   3.002105  1.207637\n",
            "Al   1.408158  0.316239\n",
            "Si  72.598026  0.719790\n",
            "K    0.521053  0.212315\n",
            "Ca   9.073684  1.908951\n",
            "Ba   0.050263  0.359949\n",
            "Fe   0.079737  0.105730\n",
            "\n",
            "3. vehicle_windows_fp:\n",
            "         mean        sd\n",
            "RI   1.517964  0.001859\n",
            "Na  13.437059  0.491753\n",
            "Mg   3.543529  0.157926\n",
            "Al   1.201176  0.337114\n",
            "Si  72.404706  0.496981\n",
            "K    0.406471  0.223026\n",
            "Ca   8.782941  0.368762\n",
            "Ba   0.008824  0.035294\n",
            "Fe   0.057059  0.104643\n",
            "\n",
            "4. vehicle_windows_nfp:\n",
            "    mean   sd\n",
            "RI   0.0  0.0\n",
            "Na   0.0  0.0\n",
            "Mg   0.0  0.0\n",
            "Al   0.0  0.0\n",
            "Si   0.0  0.0\n",
            "K    0.0  0.0\n",
            "Ca   0.0  0.0\n",
            "Ba   0.0  0.0\n",
            "Fe   0.0  0.0\n",
            "\n",
            "5. containers:\n",
            "         mean        sd\n",
            "RI   1.518928  0.003214\n",
            "Na  12.827692  0.746553\n",
            "Mg   0.773846  0.959948\n",
            "Al   2.033846  0.666697\n",
            "Si  72.366154  1.232012\n",
            "K    1.470000  2.054792\n",
            "Ca  10.123846  2.098118\n",
            "Ba   0.187692  0.584389\n",
            "Fe   0.060769  0.149484\n",
            "\n",
            "6. tableware:\n",
            "         mean        sd\n",
            "RI   1.517456  0.002938\n",
            "Na  14.646667  1.022024\n",
            "Mg   1.305556  1.034388\n",
            "Al   1.366667  0.539156\n",
            "Si  73.206667  1.017732\n",
            "K    0.000000  0.000000\n",
            "Ca   9.356667  1.367024\n",
            "Ba   0.000000  0.000000\n",
            "Fe   0.000000  0.000000\n",
            "\n",
            "7. headlamps:\n",
            "         mean        sd\n",
            "RI   1.517116  0.002501\n",
            "Na  14.442069  0.674421\n",
            "Mg   0.538276  1.098243\n",
            "Al   2.122759  0.435026\n",
            "Si  72.965862  0.923881\n",
            "K    0.325172  0.656866\n",
            "Ca   8.491379  0.956573\n",
            "Ba   1.040000  0.653769\n",
            "Fe   0.013448  0.029276\n",
            "\n"
          ],
          "name": "stdout"
        }
      ]
    },
    {
      "cell_type": "markdown",
      "metadata": {
        "id": "8UPdneeMqRZn"
      },
      "source": [
        "As an example of how knowing these values can help in predictions, let's take the case where we had a sample feature $x=0.2$ from a gaussian distribution with mean $\\mu=0.5$, standard deviation $\\sigma=0.1$. We can find the _probability density function_ (PDF) value corresponding to $x$:"
      ]
    },
    {
      "cell_type": "code",
      "metadata": {
        "id": "C5DqS1q0sQuA",
        "outputId": "d06f1365-83e1-4549-9d21-0a39ce6af4c1",
        "colab": {
          "base_uri": "https://localhost:8080/",
          "height": 35
        }
      },
      "source": [
        "from scipy.stats import norm\n",
        "\n",
        "x = 0.2\n",
        "mu = 0.5\n",
        "sigma = 0.1\n",
        "\n",
        "print(\"{:.5f}\".format(norm.pdf(x,mu,sigma)))"
      ],
      "execution_count": 90,
      "outputs": [
        {
          "output_type": "stream",
          "text": [
            "0.04432\n"
          ],
          "name": "stdout"
        }
      ]
    },
    {
      "cell_type": "markdown",
      "metadata": {
        "id": "BonBHe9S3KYR"
      },
      "source": [
        "Now why is this useful? Let's take a look at what a naive Bayes model would tell us. The probability of some sample belonging to a class is defined in the model to be the product between the **class prior** and of the **product of all the PDFs of the features**.\n",
        "\n",
        "For example, let's say we had 2 classes, Class $A$ and Class $B$. Class $A$ has a prior of 0.6 while Class $B$ has a prior of 0.4. These two classes have features of _height_ and _width_. Also, the following is true for each feature:\n",
        "\n",
        "<ul>\n",
        "Height Class $A$: mean 0.5, standard deviation of 0.1\n",
        "\n",
        "Height Class $B$: mean 0.2, standard deviation of 0.1\n",
        "\n",
        "Width Class $A$ : mean 0.7, standard deviation of 1\n",
        "\n",
        "Width Class $B$: mean 0.3, standard deviation of .2\n",
        "</ul>\n",
        "\n",
        "Now, using naive Bayes, let's see how we would classify a new object that had height of 0.2m and width of 0.7m.\n",
        "\n",
        "(Notice how the height of Class $A$ matches with the previous example, and how the height of the new object is also 0.2!)"
      ]
    },
    {
      "cell_type": "code",
      "metadata": {
        "id": "n37OsjzV8vXe",
        "outputId": "59035bbb-1135-42be-da3f-d0846f7c9500",
        "colab": {
          "base_uri": "https://localhost:8080/",
          "height": 53
        }
      },
      "source": [
        "# Define Class A\n",
        "prior_a = 0.6\n",
        "height_a = (0.5,0.1)\n",
        "width_a = (0.7,1)\n",
        "# Define Class B\n",
        "prior_b = 0.4\n",
        "height_b = (0.2,0.1)\n",
        "width_b = (0.3,0.2)\n",
        "\n",
        "# Define New Object (Height, Width)\n",
        "new_object = (0.2,0.7)\n",
        "\n",
        "# Calculates Probability of being in either class\n",
        "prob_a = (prior_a *\n",
        "          norm.pdf(new_object[0],height_a[0],height_a[1]) *\n",
        "          norm.pdf(new_object[1],width_a[0],width_a[1]))\n",
        "print(\"Probability of Class A: {:.5f}\".format(prob_a))\n",
        "prob_b = (prior_b *\n",
        "          norm.pdf(new_object[0],height_b[0],height_b[1]) *\n",
        "          norm.pdf(new_object[1],width_b[0],width_b[1]))\n",
        "print(\"Probability of Class B: {:.5f}\".format(prob_b))"
      ],
      "execution_count": 91,
      "outputs": [
        {
          "output_type": "stream",
          "text": [
            "Probability of Class A: 0.01061\n",
            "Probability of Class B: 0.43079\n"
          ],
          "name": "stdout"
        }
      ]
    },
    {
      "cell_type": "markdown",
      "metadata": {
        "id": "dPfQ2xULClwB"
      },
      "source": [
        "Thus, we would choose class $B$ in this case."
      ]
    },
    {
      "cell_type": "markdown",
      "metadata": {
        "id": "T3cT3HyIEgWH"
      },
      "source": [
        "## Part IV: Support Vector Machines\n",
        "\n",
        "Rather than doing something like the Naive Bayes classifier on the Glass Dataset, let's use something that is better suited to real world use. Support Vector Machines (SVMs) are a great tool for providing good classification on a dataset.\n",
        "\n",
        "As with any classification set, it is good to divide the data into a _training_ and _testing_ set randomly. However, for this assignment, a random state is hard-coded to allow for consistent results."
      ]
    },
    {
      "cell_type": "code",
      "metadata": {
        "id": "Bkg7M1PtZxr-"
      },
      "source": [
        "from sklearn.model_selection import train_test_split\n",
        "\n",
        "# Splits the data into training/testing sets\n",
        "X_train, X_test, y_train, y_test = train_test_split(\n",
        "    features, labels, test_size=0.2, random_state=8290)"
      ],
      "execution_count": 92,
      "outputs": []
    },
    {
      "cell_type": "markdown",
      "metadata": {
        "id": "y-9a8zyQh0We"
      },
      "source": [
        "Now we can fit the model..."
      ]
    },
    {
      "cell_type": "code",
      "metadata": {
        "id": "Kxlt7anAcOcM",
        "outputId": "0ca9ef34-2521-4635-b917-4b070d35cc29",
        "colab": {
          "base_uri": "https://localhost:8080/",
          "height": 90
        }
      },
      "source": [
        "from sklearn import svm\n",
        "\n",
        "glass_model = svm.SVC(kernel='linear',C=5,gamma='auto')\n",
        "glass_model.fit(X_train, y_train)"
      ],
      "execution_count": 93,
      "outputs": [
        {
          "output_type": "execute_result",
          "data": {
            "text/plain": [
              "SVC(C=5, break_ties=False, cache_size=200, class_weight=None, coef0=0.0,\n",
              "    decision_function_shape='ovr', degree=3, gamma='auto', kernel='linear',\n",
              "    max_iter=-1, probability=False, random_state=None, shrinking=True,\n",
              "    tol=0.001, verbose=False)"
            ]
          },
          "metadata": {
            "tags": []
          },
          "execution_count": 93
        }
      ]
    },
    {
      "cell_type": "markdown",
      "metadata": {
        "id": "bmIx46-Fh7mM"
      },
      "source": [
        "... and get the accuracy of the model on the testing set."
      ]
    },
    {
      "cell_type": "code",
      "metadata": {
        "id": "as6PMV56dFU6",
        "outputId": "1cde0203-90f7-450a-c020-ab7a23e0bf35",
        "colab": {
          "base_uri": "https://localhost:8080/",
          "height": 35
        }
      },
      "source": [
        "from sklearn.metrics import accuracy_score\n",
        "\n",
        "y_pred = glass_model.predict(X_test)\n",
        "lin_acc = accuracy_score(y_pred,y_test)\n",
        "\n",
        "print(\"Linear SVM Accuracy: {:.5f}%\".format(100*lin_acc))"
      ],
      "execution_count": 94,
      "outputs": [
        {
          "output_type": "stream",
          "text": [
            "Linear SVM Accuracy: 65.11628%\n"
          ],
          "name": "stdout"
        }
      ]
    },
    {
      "cell_type": "markdown",
      "metadata": {
        "id": "biom9wDofPug"
      },
      "source": [
        "Let's compare that to using a different type of kernel for the separation of data, specifically the _radial basis function_."
      ]
    },
    {
      "cell_type": "code",
      "metadata": {
        "id": "icBaxvpSeEG0",
        "outputId": "bef203c9-55bc-49fb-a59c-c36ea064fbf7",
        "colab": {
          "base_uri": "https://localhost:8080/",
          "height": 35
        }
      },
      "source": [
        "# Creates new model with radial basis function\n",
        "glass_model = svm.SVC(kernel='rbf',C=5,gamma='auto')\n",
        "glass_model.fit(X_train, y_train)\n",
        "\n",
        "# Gets accuracy of the model\n",
        "y_pred = glass_model.predict(X_test)\n",
        "rbf_acc = accuracy_score(y_pred,y_test)\n",
        "\n",
        "print(\"RBF SVM Accuracy: {:.5f}%\".format(100*rbf_acc))"
      ],
      "execution_count": 95,
      "outputs": [
        {
          "output_type": "stream",
          "text": [
            "RBF SVM Accuracy: 76.74419%\n"
          ],
          "name": "stdout"
        }
      ]
    },
    {
      "cell_type": "markdown",
      "metadata": {
        "id": "DzBWlbAGfJYA"
      },
      "source": [
        "In this case, using the radial basis function yielded a higher accuracy on the model.\n",
        "\n",
        "In keeping with the RBF model, we can show the results in a different way. _Confusion Matrices_ are a popular way to represent not only the correctness of the model, but to also see what the misclassifications were."
      ]
    },
    {
      "cell_type": "code",
      "metadata": {
        "id": "V8DmPQjFiY8M",
        "outputId": "d52d0ea1-b96a-4e54-d20c-fc0a7e418c24",
        "colab": {
          "base_uri": "https://localhost:8080/",
          "height": 379
        }
      },
      "source": [
        "from sklearn.metrics import plot_confusion_matrix\n",
        "\n",
        "# Since the 4th class wasn't trained on, it wouldn't show in the training or\n",
        "# the confusion matrix. Thus, it needs to be removed.\n",
        "class_names_ = class_names[:3] + class_names[4:]\n",
        "\n",
        "cf = plot_confusion_matrix(glass_model,X_test,y_test,xticks_rotation=90,\n",
        "                           display_labels=class_names_,cmap='Blues')"
      ],
      "execution_count": 96,
      "outputs": [
        {
          "output_type": "display_data",
          "data": {
            "image/png": "[encoded data removed]",
            "text/plain": [
              "<Figure size 432x288 with 2 Axes>"
            ]
          },
          "metadata": {
            "tags": [],
            "needs_background": "light"
          }
        }
      ]
    },
    {
      "cell_type": "markdown",
      "metadata": {
        "id": "LSlDn9pEmlvb"
      },
      "source": [
        "## Part V: Improving SVM Accuracy\n",
        "\n",
        "Even though Sklearn gives us the ability to automatically find the best value of C, we can do so manually. Let's create a plot of accuracies based on these C values."
      ]
    },
    {
      "cell_type": "code",
      "metadata": {
        "id": "GJpIjjcTnE43",
        "outputId": "82b434e2-5119-4bb9-c1da-535943feefb3",
        "colab": {
          "base_uri": "https://localhost:8080/",
          "height": 295
        }
      },
      "source": [
        "# Values of C to iterate through\n",
        "C = [0.01, 0.1, 0.5, 1, 2, 3, 4, 5, 7, 10, 15, 20]\n",
        "\n",
        "# Get the accuracy of each C value\n",
        "accs = []\n",
        "for c in C:\n",
        "  model = svm.SVC(kernel='rbf',C=c,gamma='auto')\n",
        "  model.fit(X_train,y_train)\n",
        "  y_pred = model.predict(X_test)\n",
        "  accs.append(accuracy_score(y_test,y_pred))\n",
        "\n",
        "# Plots the C's and their accuracies\n",
        "plt.plot(C, accs, 'bo')\n",
        "plt.ylim(0.0,1.0)\n",
        "plt.xlabel('C Value')\n",
        "plt.ylabel('Accuracy')\n",
        "plt.title(\"C Value's Effect on Accuracy in SVM\")\n",
        "plt.show()"
      ],
      "execution_count": 97,
      "outputs": [
        {
          "output_type": "display_data",
          "data": {
            "image/png": "[encoded data removed]",
            "text/plain": [
              "<Figure size 432x288 with 1 Axes>"
            ]
          },
          "metadata": {
            "tags": [],
            "needs_background": "light"
          }
        }
      ]
    },
    {
      "cell_type": "markdown",
      "metadata": {
        "id": "qwz8jEucq9o6"
      },
      "source": [
        "We can also see which C value(s) achieved the highest accuracy."
      ]
    },
    {
      "cell_type": "code",
      "metadata": {
        "id": "g719vcyMq0di",
        "outputId": "8aa7e058-18bc-42b9-ac0b-f2efb6503bb2",
        "colab": {
          "base_uri": "https://localhost:8080/",
          "height": 35
        }
      },
      "source": [
        "indics = np.where(accs == np.amax(accs))[0]\n",
        "print([C[i] for i in indics])"
      ],
      "execution_count": 98,
      "outputs": [
        {
          "output_type": "stream",
          "text": [
            "[4, 5, 7, 10]\n"
          ],
          "name": "stdout"
        }
      ]
    },
    {
      "cell_type": "markdown",
      "metadata": {
        "id": "EKbhy5RctHO6"
      },
      "source": [
        "These C values give the best accuracy in this SVM model.\n",
        "\n",
        "Back to the RBF model, we can see the support vectors that were chosen by the model."
      ]
    },
    {
      "cell_type": "code",
      "metadata": {
        "id": "4-7NjDwhttGx",
        "outputId": "3ff88cfd-37d1-4f23-cb07-e81366706ae3",
        "colab": {
          "base_uri": "https://localhost:8080/",
          "height": 253
        }
      },
      "source": [
        "print(glass_model.support_vectors_)"
      ],
      "execution_count": 99,
      "outputs": [
        {
          "output_type": "stream",
          "text": [
            "[[1.51720e+00 1.33800e+01 3.50000e+00 ... 8.43000e+00 0.00000e+00\n",
            "  0.00000e+00]\n",
            " [1.51775e+00 1.28500e+01 3.48000e+00 ... 8.56000e+00 9.00000e-02\n",
            "  2.20000e-01]\n",
            " [1.51736e+00 1.27800e+01 3.62000e+00 ... 8.70000e+00 0.00000e+00\n",
            "  0.00000e+00]\n",
            " ...\n",
            " [1.51508e+00 1.51500e+01 0.00000e+00 ... 8.34000e+00 6.30000e-01\n",
            "  0.00000e+00]\n",
            " [1.51556e+00 1.38700e+01 0.00000e+00 ... 9.41000e+00 8.10000e-01\n",
            "  1.00000e-02]\n",
            " [1.52315e+00 1.34400e+01 3.34000e+00 ... 8.83000e+00 0.00000e+00\n",
            "  0.00000e+00]]\n"
          ],
          "name": "stdout"
        }
      ]
    },
    {
      "cell_type": "markdown",
      "metadata": {
        "id": "b0dJMxhEvHF_"
      },
      "source": [
        "Looking back at the confusion matrix for the RBF kernel model, we can see that other classes were misclassified as the building_windows_fp class many times. One idea to improve the model would be to re-weight the samples that belong to this class."
      ]
    },
    {
      "cell_type": "code",
      "metadata": {
        "id": "tZeC-trIvHRC",
        "outputId": "0c091676-19f9-4df5-ead8-170a925958ea",
        "colab": {
          "base_uri": "https://localhost:8080/",
          "height": 35
        }
      },
      "source": [
        "# Creates weights of default 1\n",
        "weights = np.ones(y_train.shape)\n",
        "# Re-weights all examples where that class is\n",
        "weights[np.where(y_train == 1)] = 0.8\n",
        "\n",
        "# Creates new model with the new weights\n",
        "glass_model = svm.SVC(kernel='rbf',C=5,gamma='auto')\n",
        "glass_model.fit(X_train, y_train, sample_weight=weights)\n",
        "\n",
        "# Gets accuracy of the model\n",
        "y_pred = glass_model.predict(X_test)\n",
        "rbf_acc = accuracy_score(y_pred,y_test)\n",
        "\n",
        "print(\"RBF SVM Weighted Accuracy: {:.5f}%\".format(100*rbf_acc))"
      ],
      "execution_count": 100,
      "outputs": [
        {
          "output_type": "stream",
          "text": [
            "RBF SVM Weighted Accuracy: 81.39535%\n"
          ],
          "name": "stdout"
        }
      ]
    },
    {
      "cell_type": "markdown",
      "metadata": {
        "id": "LNIY1k2ss4uL"
      },
      "source": [
        "... and see the effect that has on the confusion matrix..."
      ]
    },
    {
      "cell_type": "code",
      "metadata": {
        "id": "_eIHjt1us8hH",
        "outputId": "1bdfc3b3-e12d-470f-d01a-2c6368cc86d0",
        "colab": {
          "base_uri": "https://localhost:8080/",
          "height": 379
        }
      },
      "source": [
        "cf = plot_confusion_matrix(glass_model,X_test,y_test,xticks_rotation=90,\n",
        "                           display_labels=class_names_,cmap='Blues')"
      ],
      "execution_count": 101,
      "outputs": [
        {
          "output_type": "display_data",
          "data": {
            "image/png": "[encoded data removed]",
            "text/plain": [
              "<Figure size 432x288 with 2 Axes>"
            ]
          },
          "metadata": {
            "tags": [],
            "needs_background": "light"
          }
        }
      ]
    },
    {
      "cell_type": "markdown",
      "metadata": {
        "id": "SnqbwNPT0Q01"
      },
      "source": [
        "Lowering the importance of that class reasonably has shown a sizeable improvement in the accuracy. However, manipulation of the model parameters (in this case, weights) to influence the test set must be done so with great caution... this could lead to overfitting the test set."
      ]
    }
  ]
}