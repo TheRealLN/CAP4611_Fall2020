{
  "nbformat": 4,
  "nbformat_minor": 0,
  "metadata": {
    "colab": {
      "name": "CAP4611_HW1.ipynb",
      "provenance": [],
      "collapsed_sections": []
    },
    "kernelspec": {
      "name": "python3",
      "display_name": "Python 3"
    }
  },
  "cells": [
    {
      "cell_type": "markdown",
      "metadata": {
        "id": "j7UZEZ5D-AFO",
        "colab_type": "text"
      },
      "source": [
        "# CAP 4611: Homework 1"
      ]
    },
    {
      "cell_type": "code",
      "metadata": {
        "id": "erwbs0oUAnQL",
        "colab_type": "code",
        "colab": {}
      },
      "source": [
        "import numpy as np\n",
        "import pandas as pd\n",
        "import matplotlib.pyplot as plt\n",
        "%matplotlib inline\n",
        "import sklearn.linear_model as linmod"
      ],
      "execution_count": null,
      "outputs": []
    },
    {
      "cell_type": "markdown",
      "metadata": {
        "id": "uS3RCyGsAkn3",
        "colab_type": "text"
      },
      "source": [
        "## Part I - Data Exploration\n",
        "Here, we will look into some of the specifics of the dataset. Before that, however, we must first import the data."
      ]
    },
    {
      "cell_type": "code",
      "metadata": {
        "id": "X3aR7qwP9_Pd",
        "colab_type": "code",
        "colab": {
          "base_uri": "https://localhost:8080/",
          "height": 271
        },
        "outputId": "c8e944f2-d420-4f05-e244-5883419297c0"
      },
      "source": [
        "url = \"https://archive.ics.uci.edu/ml/machine-learning-databases/iris/iris.data\"\n",
        "new_names = [\"sepal_length\", \"sepal_width\", \"petal_length\", \"petal_width\", \"iris_class\"]\n",
        "dataset = pd.read_csv(url, names=new_names)\n",
        "# This randomizes the dataset per HW1 specifications (mainly for part II)\n",
        "dataset = dataset.sample(frac=1,random_state=123).reset_index(drop=True)\n",
        "# Prints out the dataset\n",
        "print(dataset)"
      ],
      "execution_count": null,
      "outputs": [
        {
          "output_type": "stream",
          "text": [
            "     sepal_length  sepal_width  petal_length  petal_width       iris_class\n",
            "0             6.3          2.5           4.9          1.5  Iris-versicolor\n",
            "1             6.8          3.0           5.5          2.1   Iris-virginica\n",
            "2             6.4          2.8           5.6          2.2   Iris-virginica\n",
            "3             5.6          3.0           4.1          1.3  Iris-versicolor\n",
            "4             4.9          3.1           1.5          0.1      Iris-setosa\n",
            "..            ...          ...           ...          ...              ...\n",
            "145           5.1          3.5           1.4          0.3      Iris-setosa\n",
            "146           5.1          2.5           3.0          1.1  Iris-versicolor\n",
            "147           5.6          3.0           4.5          1.5  Iris-versicolor\n",
            "148           6.2          2.8           4.8          1.8   Iris-virginica\n",
            "149           7.2          3.6           6.1          2.5   Iris-virginica\n",
            "\n",
            "[150 rows x 5 columns]\n"
          ],
          "name": "stdout"
        }
      ]
    },
    {
      "cell_type": "markdown",
      "metadata": {
        "id": "Yeu2ahFjFZ6s",
        "colab_type": "text"
      },
      "source": [
        "### A. Number of Classes and Balancing\n",
        "This will get the unique classes and save them to a list."
      ]
    },
    {
      "cell_type": "code",
      "metadata": {
        "id": "_e4H2CbZCWzJ",
        "colab_type": "code",
        "colab": {
          "base_uri": "https://localhost:8080/",
          "height": 53
        },
        "outputId": "a5c7afce-1029-4487-e484-37059c327f80"
      },
      "source": [
        "classes = dataset['iris_class'].unique()\n",
        "class_cnt = len(classes)\n",
        "print(classes)\n",
        "print('Number of classes: ' + str(class_cnt))"
      ],
      "execution_count": null,
      "outputs": [
        {
          "output_type": "stream",
          "text": [
            "['Iris-versicolor' 'Iris-virginica' 'Iris-setosa']\n",
            "Number of classes: 3\n"
          ],
          "name": "stdout"
        }
      ]
    },
    {
      "cell_type": "markdown",
      "metadata": {
        "id": "PxXF-nlzH7DY",
        "colab_type": "text"
      },
      "source": [
        "Let's test whether if this dataset is _balanced_ or _unbalanced_."
      ]
    },
    {
      "cell_type": "code",
      "metadata": {
        "id": "FbJMGgbnBO8M",
        "colab_type": "code",
        "colab": {
          "base_uri": "https://localhost:8080/",
          "height": 90
        },
        "outputId": "455a813e-bbff-47ab-ebe4-c5ef855abb7a"
      },
      "source": [
        "num_examples = dataset['iris_class'].value_counts()\n",
        "print(num_examples)"
      ],
      "execution_count": null,
      "outputs": [
        {
          "output_type": "stream",
          "text": [
            "Iris-setosa        50\n",
            "Iris-versicolor    50\n",
            "Iris-virginica     50\n",
            "Name: iris_class, dtype: int64\n"
          ],
          "name": "stdout"
        }
      ]
    },
    {
      "cell_type": "markdown",
      "metadata": {
        "id": "FHL_CtrkFA-R",
        "colab_type": "text"
      },
      "source": [
        "This is indicative of a _balanced_ dataset. As the number of examples for each class match very closely (in this case, exactly), the training will not have an immediate bias towards or against any class based on example count."
      ]
    },
    {
      "cell_type": "markdown",
      "metadata": {
        "id": "6U1wTU2sGjhj",
        "colab_type": "text"
      },
      "source": [
        "### B. Extremes of Features\n",
        "Next, let's get a better look at some of the features of the flowers. We will find the extremes of each feature (min and max value)."
      ]
    },
    {
      "cell_type": "code",
      "metadata": {
        "id": "Rm0Os_xBGwVl",
        "colab_type": "code",
        "colab": {
          "base_uri": "https://localhost:8080/",
          "height": 217
        },
        "outputId": "0de07c74-7e01-493b-c0ab-9d241ac0e885"
      },
      "source": [
        "# Sepal Length\n",
        "print(\"Min sepal length = {0} in.\".format(dataset['sepal_length'].min()))\n",
        "print(\"Max sepal length = {0} in.\\n\".format(dataset['sepal_length'].max()))\n",
        "# Sepal Width\n",
        "print(\"Min sepal width = {0} in.\".format(dataset['sepal_width'].min()))\n",
        "print(\"Max sepal width = {0} in.\\n\".format(dataset['sepal_width'].max()))\n",
        "# Petal Length\n",
        "print(\"Min petal length = {0} in.\".format(dataset['petal_length'].min()))\n",
        "print(\"Max petal length = {0} in.\\n\".format(dataset['petal_length'].max()))\n",
        "# Petal Width\n",
        "print(\"Min petal width = {0} in.\".format(dataset['petal_width'].min()))\n",
        "print(\"Max petal width = {0} in.\".format(dataset['petal_width'].max()))"
      ],
      "execution_count": null,
      "outputs": [
        {
          "output_type": "stream",
          "text": [
            "Min sepal length = 4.3 in.\n",
            "Max sepal length = 7.9 in.\n",
            "\n",
            "Min sepal width = 2.0 in.\n",
            "Max sepal width = 4.4 in.\n",
            "\n",
            "Min petal length = 1.0 in.\n",
            "Max petal length = 6.9 in.\n",
            "\n",
            "Min petal width = 0.1 in.\n",
            "Max petal width = 2.5 in.\n"
          ],
          "name": "stdout"
        }
      ]
    },
    {
      "cell_type": "markdown",
      "metadata": {
        "id": "4A7mW2_1jXXb",
        "colab_type": "text"
      },
      "source": [
        "### C. Scatterplots\n",
        "Let's get a better look at the sepal lengths/widths and the petal lengths/widths through the use of a scatterplot."
      ]
    },
    {
      "cell_type": "code",
      "metadata": {
        "id": "nIQ0GL88cHgE",
        "colab_type": "code",
        "colab": {
          "base_uri": "https://localhost:8080/",
          "height": 573
        },
        "outputId": "5669d83d-50a0-431d-8b9a-3c9e970ea5b9"
      },
      "source": [
        "def scatterplot_data(x, features, label, c):\n",
        "  x_feat_l = x[:,features[0]]\n",
        "  x_feat_w = x[:,features[1]]\n",
        "  plt.scatter(x_feat_l, x_feat_w, c=c)\n",
        "  plt.title('{0}'.format(label))\n",
        "  plt.xlabel('Length (in.)')\n",
        "  plt.ylabel('Width (in.)')\n",
        "  plt.show()\n",
        "  return\n",
        "\n",
        "np_dataset = dataset.values\n",
        "scatterplot_data(np_dataset, [0,1], 'Sepal', 'blue')\n",
        "scatterplot_data(np_dataset, [2,3], 'Petal', 'red')"
      ],
      "execution_count": null,
      "outputs": [
        {
          "output_type": "display_data",
          "data": {
            "image/png": "[encoded data removed]",
            "text/plain": [
              "<Figure size 432x288 with 1 Axes>"
            ]
          },
          "metadata": {
            "tags": [],
            "needs_background": "light"
          }
        },
        {
          "output_type": "display_data",
          "data": {
            "image/png": "[encoded data removed]",
            "text/plain": [
              "<Figure size 432x288 with 1 Axes>"
            ]
          },
          "metadata": {
            "tags": [],
            "needs_background": "light"
          }
        }
      ]
    },
    {
      "cell_type": "markdown",
      "metadata": {
        "id": "cxOUA0sKwuYU",
        "colab_type": "text"
      },
      "source": [
        "### D. Linear Regression\n",
        "We can now train a linear regression model to show the relation between width and length for sepals and petals. As seen above, it is expected for the petal's l/w to be much more closely related than sepal's (petal r^2 score ≈ 1, whereas sepal r^2 score ≈ 0)."
      ]
    },
    {
      "cell_type": "code",
      "metadata": {
        "id": "xHp6m5XksfWg",
        "colab_type": "code",
        "colab": {
          "base_uri": "https://localhost:8080/",
          "height": 53
        },
        "outputId": "7b447847-ecaa-4f3c-9f04-0666771d8264"
      },
      "source": [
        "# Train relationship for sepal\n",
        "sepal_l_reshape = np_dataset[:,0].reshape(-1,1)\n",
        "sepal_w_reshape = np_dataset[:,1].reshape(-1,1)\n",
        "a = linmod.LinearRegression().fit(sepal_l_reshape,sepal_w_reshape)\n",
        "# Train relationship for petal\n",
        "petal_l_reshape = np_dataset[:,2].reshape(-1,1)\n",
        "petal_w_reshape = np_dataset[:,3].reshape(-1,1)\n",
        "b = linmod.LinearRegression().fit(petal_l_reshape,petal_w_reshape)\n",
        "\n",
        "# Prints score for each\n",
        "sepal_score = a.score(sepal_l_reshape,sepal_w_reshape)\n",
        "petal_score = b.score(petal_l_reshape,petal_w_reshape)\n",
        "print('Sepal r^2 score: {0:.3}'.format(sepal_score))\n",
        "print('Petal r^2 score: {0:.3}'.format(petal_score))"
      ],
      "execution_count": null,
      "outputs": [
        {
          "output_type": "stream",
          "text": [
            "Sepal r^2 score: 0.012\n",
            "Petal r^2 score: 0.927\n"
          ],
          "name": "stdout"
        }
      ]
    },
    {
      "cell_type": "markdown",
      "metadata": {
        "id": "o0D810VeWsS3",
        "colab_type": "text"
      },
      "source": [
        "## Part II: K-Nearest Neighbor\n",
        "After learning about the data itself, now we can attempt to classify different flowers based on these features. Specifically, the classification method used will be k-nearest neighbor. This will be an implementation made from scratch, only using numpy for numerical calculations."
      ]
    },
    {
      "cell_type": "code",
      "metadata": {
        "id": "OI9YuedNWma_",
        "colab_type": "code",
        "colab": {
          "base_uri": "https://localhost:8080/",
          "height": 35
        },
        "outputId": "2e18c3ba-3221-4a7d-d990-a98fcf78c30f"
      },
      "source": [
        "# This code is NOT optimized... doesn't even vectorize the operations :(\n",
        "\n",
        "# Finds the Euclidian distance between two points with n dimensions\n",
        "def euc(x,y,n):\n",
        "  l = []\n",
        "  for i in range(n):\n",
        "    l.append((x[i] - y[i]) ** 2)\n",
        "  return np.sqrt(sum(l))\n",
        "\n",
        "# Using numpy dataset x, point p, uses k-nearest neighbors to classify\n",
        "# Also allows for an override on k being odd and if the datapoint is a known part of the dataset\n",
        "def k_nearest_neighbor_euc(x,p,classes,k,override=False,included=False):\n",
        "  if k%2 != 1 and override == False:\n",
        "    raise Exception('k must be an odd number. (You can override this by setting \"override\" to True.)')\n",
        "  r, c = x.shape\n",
        "  x_new = np.append(x, np.zeros(shape=(r,1)),1)\n",
        "  # Uses Euclidian distance to find the smallest distance\n",
        "  for i in range(r):\n",
        "    x_new[i,c] = euc(x_new[i,:c],p,c-1)\n",
        "  # Sorts array by closest datapoints\n",
        "  x_new = x_new[x_new[:,c].argsort()]\n",
        "  # Classifies with maximum of nearby classes\n",
        "  num_classes = len(classes)\n",
        "  freq_classes = np.zeros(shape=(num_classes))\n",
        "  start_val = 0\n",
        "  if included == True:\n",
        "    start_val = 1\n",
        "  for i in range(start_val,k+start_val):\n",
        "    for j in range(num_classes):\n",
        "      if x_new[i,c-1] == classes[j]:\n",
        "        freq_classes[j] += 1\n",
        "        break\n",
        "  maxi = np.where(freq_classes == np.amax(freq_classes))\n",
        "  return classes[maxi]"
      ],
      "execution_count": 75,
      "outputs": [
        {
          "output_type": "stream",
          "text": [
            "['Iris-virginica']\n"
          ],
          "name": "stdout"
        }
      ]
    },
    {
      "cell_type": "markdown",
      "metadata": {
        "id": "t0Jjz071Ttne",
        "colab_type": "text"
      },
      "source": [
        "Now we can test this using a 5-cross fold validation test."
      ]
    },
    {
      "cell_type": "code",
      "metadata": {
        "id": "Mr2zXjM5TyLv",
        "colab_type": "code",
        "colab": {
          "base_uri": "https://localhost:8080/",
          "height": 90
        },
        "outputId": "f8786c45-2497-41f0-dbcc-5ffb4773f705"
      },
      "source": [
        "def k_cross_validation (x,classes,nn,k):\n",
        "  r,c = x.shape\n",
        "  subset_size = (int) ((r*1.0) / k)\n",
        "  acc = 0\n",
        "  for i in range(k):\n",
        "    validation_set = x[subset_size*i:subset_size*(i+1)]\n",
        "    train_set = np.delete(x,np.s_[subset_size*i:subset_size*(i+1)],0)\n",
        "    for j in range(subset_size):\n",
        "      res = k_nearest_neighbor_euc(train_set,validation_set[j,:4],classes,nn)\n",
        "      if res[0] == validation_set[j,4]:\n",
        "        acc += 1\n",
        "  return acc * 1.0 / r\n",
        "\n",
        "print('Cross validation, k = 1: {}'.format(k_cross_validation(np_dataset, classes, 1, 5)))\n",
        "print('Cross validation, k = 3: {}'.format(k_cross_validation(np_dataset, classes, 3, 5)))\n",
        "print('Cross validation, k = 5: {}'.format(k_cross_validation(np_dataset, classes, 5, 5)))\n",
        "print('Cross validation, k = 7: {}'.format(k_cross_validation(np_dataset, classes, 7, 5)))"
      ],
      "execution_count": 93,
      "outputs": [
        {
          "output_type": "stream",
          "text": [
            "Cross validation, k = 1: 0.9533333333333334\n",
            "Cross validation, k = 3: 0.96\n",
            "Cross validation, k = 5: 0.96\n",
            "Cross validation, k = 7: 0.9666666666666667\n"
          ],
          "name": "stdout"
        }
      ]
    }
  ]
}