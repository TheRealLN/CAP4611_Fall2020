{
  "nbformat": 4,
  "nbformat_minor": 0,
  "metadata": {
    "kernelspec": {
      "display_name": "Python 3",
      "language": "python",
      "name": "python3"
    },
    "language_info": {
      "codemirror_mode": {
        "name": "ipython",
        "version": 3
      },
      "file_extension": ".py",
      "mimetype": "text/x-python",
      "name": "python",
      "nbconvert_exporter": "python",
      "pygments_lexer": "ipython3",
      "version": "3.7.3"
    },
    "varInspector": {
      "cols": {
        "lenName": 16,
        "lenType": 16,
        "lenVar": 40
      },
      "kernels_config": {
        "python": {
          "delete_cmd_postfix": "",
          "delete_cmd_prefix": "del ",
          "library": "var_list.py",
          "varRefreshCmd": "print(var_dic_list())"
        },
        "r": {
          "delete_cmd_postfix": ") ",
          "delete_cmd_prefix": "rm(",
          "library": "var_list.r",
          "varRefreshCmd": "cat(var_dic_list()) "
        }
      },
      "types_to_exclude": [
        "module",
        "function",
        "builtin_function_or_method",
        "instance",
        "_Feature"
      ],
      "window_display": false
    },
    "colab": {
      "name": "CAP 4611 - Credit Card Fraud - Corrected.ipynb",
      "provenance": [],
      "collapsed_sections": [],
      "toc_visible": true
    }
  },
  "cells": [
    {
      "cell_type": "markdown",
      "metadata": {
        "id": "uZUbWuFyMYeJ"
      },
      "source": [
        "# CAP 4611 - Credit Card Fraud\n",
        "Given a large database of transaction histories from different customers, the goal is to create a model that can accurately detect fraudulent transactions.\n",
        "\n",
        "The data is of the following format:\n",
        "1. accountNumber - Unique account number.\n",
        "2. customerId - Unique id for customer.\n",
        "3. creditLimit - The upper credit limit the account has.\n",
        "4. availableMoney - The amount of money that the account can use.\n",
        "5. transactionDateTime - The date and time that the transaction took place.\n",
        "6. transactionAmount - The amount that the transaction was for.\n",
        "7. merchantName - The name of business that the transaction was made at.\n",
        "8. acqCountry - The country the transaction was made in.\n",
        "9. merchantCountryCode - The country the merchant is based in.\n",
        "10. posEntryMode - The method that the cardholder used to enter information.\n",
        "11. posConditionCode - The condition of the transaction.\n",
        "12. merchantCategoryCode - The type of business that the merchant is.\n",
        "13. currentExpDate - The expiry date for the card.\n",
        "14. accountOpenDate - The date the account was opened.\n",
        "15. dateofLastAddressChange - The date the address was last altered.\n",
        "16. cardCVV - The CVV of the card.\n",
        "17. enteredCVV - The CVV that was entered by the cardholder.\n",
        "18. cardLast4Digits - The last four digits of the card.\n",
        "19. transacitonType - The type of transaction that occured.\n",
        "20. **isFraud** - Whether if the transaction was fraudulent (the label).\n",
        "21. echoBuffer - ??? (Unknown)\n",
        "22. currentBalance - The balance that is currently on the card.\n",
        "23. merchantCity - The city where the merchant resides.\n",
        "24. merchantState - The state that the merchant resides.\n",
        "25. merchantZip - The ZIP code for the merchant.\n",
        "26. cardPresent - Whether if the card was physcially present during the transaction.\n",
        "27. posOnPremises - Whether if the transaction was done at the physical merchant location.\n",
        "28. recurringAuthInd - ??? (Unknown)\n",
        "29. expirationDateKeyInMatch - Expired card? (Unsure)\n"
      ]
    },
    {
      "cell_type": "markdown",
      "metadata": {
        "id": "5JHjByhnrDUd"
      },
      "source": [
        "## Step 1: Data Preparation\n",
        "The first step to take is to load in the data."
      ]
    },
    {
      "cell_type": "code",
      "metadata": {
        "colab": {
          "base_uri": "https://localhost:8080/",
          "height": 496
        },
        "id": "BIwmY7zIJzii",
        "outputId": "ea13fffa-e873-4b42-b171-673bf5b8b849"
      },
      "source": [
        "# Modified sample code to create dataframe\n",
        "# ----------------------------------------\n",
        "\n",
        "import numpy as np\n",
        "import json\n",
        "import pandas as pd\n",
        "\n",
        "# converts list of dictionary of intances into dictionary of features \n",
        "# and returns column oriented dataframe \n",
        "def load_data(data):\n",
        "    parse_data=data[0].keys()\n",
        "    trans_data={}\n",
        "    for i in parse_data:\n",
        "        trans_data[i]=list()\n",
        "    for row in data:\n",
        "        for keys,values in row.items():\n",
        "            if values=='':\n",
        "                trans_data[keys].append(float(\"NaN\")) #missing datapoints are assigned with 'NaN'\n",
        "            else:\n",
        "                trans_data[keys].append(values)\n",
        "    return pd.DataFrame.from_dict(trans_data)\n",
        "\n",
        "#Opening the file\n",
        "from google.colab import drive\n",
        "drive.mount('/content/drive')\n",
        "contents = open(\"/content/drive/MyDrive/transactions.txt\", \"r\").read()  \n",
        "list_dict = [json.loads(str(item)) for item in contents.strip().split('\\n')]\n",
        "transaction_df=load_data(list_dict)\n",
        "\n",
        "#Transaction data Data Frame\n",
        "transaction_df"
      ],
      "execution_count": 1,
      "outputs": [
        {
          "output_type": "stream",
          "text": [
            "Drive already mounted at /content/drive; to attempt to forcibly remount, call drive.mount(\"/content/drive\", force_remount=True).\n"
          ],
          "name": "stdout"
        },
        {
          "output_type": "execute_result",
          "data": {
            "text/html": [
              "<div>\n",
              "<style scoped>\n",
              "    .dataframe tbody tr th:only-of-type {\n",
              "        vertical-align: middle;\n",
              "    }\n",
              "\n",
              "    .dataframe tbody tr th {\n",
              "        vertical-align: top;\n",
              "    }\n",
              "\n",
              "    .dataframe thead th {\n",
              "        text-align: right;\n",
              "    }\n",
              "</style>\n",
              "<table border=\"1\" class=\"dataframe\">\n",
              "  <thead>\n",
              "    <tr style=\"text-align: right;\">\n",
              "      <th></th>\n",
              "      <th>accountNumber</th>\n",
              "      <th>customerId</th>\n",
              "      <th>creditLimit</th>\n",
              "      <th>availableMoney</th>\n",
              "      <th>transactionDateTime</th>\n",
              "      <th>transactionAmount</th>\n",
              "      <th>merchantName</th>\n",
              "      <th>acqCountry</th>\n",
              "      <th>merchantCountryCode</th>\n",
              "      <th>posEntryMode</th>\n",
              "      <th>posConditionCode</th>\n",
              "      <th>merchantCategoryCode</th>\n",
              "      <th>currentExpDate</th>\n",
              "      <th>accountOpenDate</th>\n",
              "      <th>dateOfLastAddressChange</th>\n",
              "      <th>cardCVV</th>\n",
              "      <th>enteredCVV</th>\n",
              "      <th>cardLast4Digits</th>\n",
              "      <th>transactionType</th>\n",
              "      <th>isFraud</th>\n",
              "      <th>echoBuffer</th>\n",
              "      <th>currentBalance</th>\n",
              "      <th>merchantCity</th>\n",
              "      <th>merchantState</th>\n",
              "      <th>merchantZip</th>\n",
              "      <th>cardPresent</th>\n",
              "      <th>posOnPremises</th>\n",
              "      <th>recurringAuthInd</th>\n",
              "      <th>expirationDateKeyInMatch</th>\n",
              "    </tr>\n",
              "  </thead>\n",
              "  <tbody>\n",
              "    <tr>\n",
              "      <th>0</th>\n",
              "      <td>733493772</td>\n",
              "      <td>733493772</td>\n",
              "      <td>5000.0</td>\n",
              "      <td>5000.00</td>\n",
              "      <td>2016-01-08T19:04:50</td>\n",
              "      <td>111.33</td>\n",
              "      <td>Lyft</td>\n",
              "      <td>US</td>\n",
              "      <td>US</td>\n",
              "      <td>05</td>\n",
              "      <td>01</td>\n",
              "      <td>rideshare</td>\n",
              "      <td>04/2020</td>\n",
              "      <td>2014-08-03</td>\n",
              "      <td>2014-08-03</td>\n",
              "      <td>492</td>\n",
              "      <td>492</td>\n",
              "      <td>9184</td>\n",
              "      <td>PURCHASE</td>\n",
              "      <td>True</td>\n",
              "      <td>NaN</td>\n",
              "      <td>0.00</td>\n",
              "      <td>NaN</td>\n",
              "      <td>NaN</td>\n",
              "      <td>NaN</td>\n",
              "      <td>False</td>\n",
              "      <td>NaN</td>\n",
              "      <td>NaN</td>\n",
              "      <td>False</td>\n",
              "    </tr>\n",
              "    <tr>\n",
              "      <th>1</th>\n",
              "      <td>733493772</td>\n",
              "      <td>733493772</td>\n",
              "      <td>5000.0</td>\n",
              "      <td>4888.67</td>\n",
              "      <td>2016-01-09T22:32:39</td>\n",
              "      <td>24.75</td>\n",
              "      <td>Uber</td>\n",
              "      <td>US</td>\n",
              "      <td>US</td>\n",
              "      <td>09</td>\n",
              "      <td>01</td>\n",
              "      <td>rideshare</td>\n",
              "      <td>06/2023</td>\n",
              "      <td>2014-08-03</td>\n",
              "      <td>2014-08-03</td>\n",
              "      <td>492</td>\n",
              "      <td>492</td>\n",
              "      <td>9184</td>\n",
              "      <td>PURCHASE</td>\n",
              "      <td>False</td>\n",
              "      <td>NaN</td>\n",
              "      <td>111.33</td>\n",
              "      <td>NaN</td>\n",
              "      <td>NaN</td>\n",
              "      <td>NaN</td>\n",
              "      <td>False</td>\n",
              "      <td>NaN</td>\n",
              "      <td>NaN</td>\n",
              "      <td>False</td>\n",
              "    </tr>\n",
              "    <tr>\n",
              "      <th>2</th>\n",
              "      <td>733493772</td>\n",
              "      <td>733493772</td>\n",
              "      <td>5000.0</td>\n",
              "      <td>4863.92</td>\n",
              "      <td>2016-01-11T13:36:55</td>\n",
              "      <td>187.40</td>\n",
              "      <td>Lyft</td>\n",
              "      <td>US</td>\n",
              "      <td>US</td>\n",
              "      <td>05</td>\n",
              "      <td>01</td>\n",
              "      <td>rideshare</td>\n",
              "      <td>12/2027</td>\n",
              "      <td>2014-08-03</td>\n",
              "      <td>2014-08-03</td>\n",
              "      <td>492</td>\n",
              "      <td>492</td>\n",
              "      <td>9184</td>\n",
              "      <td>PURCHASE</td>\n",
              "      <td>False</td>\n",
              "      <td>NaN</td>\n",
              "      <td>136.08</td>\n",
              "      <td>NaN</td>\n",
              "      <td>NaN</td>\n",
              "      <td>NaN</td>\n",
              "      <td>False</td>\n",
              "      <td>NaN</td>\n",
              "      <td>NaN</td>\n",
              "      <td>False</td>\n",
              "    </tr>\n",
              "    <tr>\n",
              "      <th>3</th>\n",
              "      <td>733493772</td>\n",
              "      <td>733493772</td>\n",
              "      <td>5000.0</td>\n",
              "      <td>4676.52</td>\n",
              "      <td>2016-01-11T22:47:46</td>\n",
              "      <td>227.34</td>\n",
              "      <td>Lyft</td>\n",
              "      <td>US</td>\n",
              "      <td>US</td>\n",
              "      <td>02</td>\n",
              "      <td>01</td>\n",
              "      <td>rideshare</td>\n",
              "      <td>09/2029</td>\n",
              "      <td>2014-08-03</td>\n",
              "      <td>2014-08-03</td>\n",
              "      <td>492</td>\n",
              "      <td>492</td>\n",
              "      <td>9184</td>\n",
              "      <td>PURCHASE</td>\n",
              "      <td>True</td>\n",
              "      <td>NaN</td>\n",
              "      <td>323.48</td>\n",
              "      <td>NaN</td>\n",
              "      <td>NaN</td>\n",
              "      <td>NaN</td>\n",
              "      <td>False</td>\n",
              "      <td>NaN</td>\n",
              "      <td>NaN</td>\n",
              "      <td>False</td>\n",
              "    </tr>\n",
              "    <tr>\n",
              "      <th>4</th>\n",
              "      <td>733493772</td>\n",
              "      <td>733493772</td>\n",
              "      <td>5000.0</td>\n",
              "      <td>4449.18</td>\n",
              "      <td>2016-01-16T01:41:11</td>\n",
              "      <td>0.00</td>\n",
              "      <td>Lyft</td>\n",
              "      <td>US</td>\n",
              "      <td>US</td>\n",
              "      <td>02</td>\n",
              "      <td>01</td>\n",
              "      <td>rideshare</td>\n",
              "      <td>10/2024</td>\n",
              "      <td>2014-08-03</td>\n",
              "      <td>2014-08-03</td>\n",
              "      <td>492</td>\n",
              "      <td>492</td>\n",
              "      <td>9184</td>\n",
              "      <td>ADDRESS_VERIFICATION</td>\n",
              "      <td>False</td>\n",
              "      <td>NaN</td>\n",
              "      <td>550.82</td>\n",
              "      <td>NaN</td>\n",
              "      <td>NaN</td>\n",
              "      <td>NaN</td>\n",
              "      <td>False</td>\n",
              "      <td>NaN</td>\n",
              "      <td>NaN</td>\n",
              "      <td>False</td>\n",
              "    </tr>\n",
              "    <tr>\n",
              "      <th>...</th>\n",
              "      <td>...</td>\n",
              "      <td>...</td>\n",
              "      <td>...</td>\n",
              "      <td>...</td>\n",
              "      <td>...</td>\n",
              "      <td>...</td>\n",
              "      <td>...</td>\n",
              "      <td>...</td>\n",
              "      <td>...</td>\n",
              "      <td>...</td>\n",
              "      <td>...</td>\n",
              "      <td>...</td>\n",
              "      <td>...</td>\n",
              "      <td>...</td>\n",
              "      <td>...</td>\n",
              "      <td>...</td>\n",
              "      <td>...</td>\n",
              "      <td>...</td>\n",
              "      <td>...</td>\n",
              "      <td>...</td>\n",
              "      <td>...</td>\n",
              "      <td>...</td>\n",
              "      <td>...</td>\n",
              "      <td>...</td>\n",
              "      <td>...</td>\n",
              "      <td>...</td>\n",
              "      <td>...</td>\n",
              "      <td>...</td>\n",
              "      <td>...</td>\n",
              "    </tr>\n",
              "    <tr>\n",
              "      <th>641909</th>\n",
              "      <td>186770399</td>\n",
              "      <td>186770399</td>\n",
              "      <td>7500.0</td>\n",
              "      <td>2574.02</td>\n",
              "      <td>2016-12-04T12:29:21</td>\n",
              "      <td>5.37</td>\n",
              "      <td>Apple iTunes</td>\n",
              "      <td>US</td>\n",
              "      <td>US</td>\n",
              "      <td>05</td>\n",
              "      <td>08</td>\n",
              "      <td>mobileapps</td>\n",
              "      <td>01/2030</td>\n",
              "      <td>2015-11-04</td>\n",
              "      <td>2016-06-03</td>\n",
              "      <td>127</td>\n",
              "      <td>127</td>\n",
              "      <td>5432</td>\n",
              "      <td>PURCHASE</td>\n",
              "      <td>False</td>\n",
              "      <td>NaN</td>\n",
              "      <td>4925.98</td>\n",
              "      <td>NaN</td>\n",
              "      <td>NaN</td>\n",
              "      <td>NaN</td>\n",
              "      <td>False</td>\n",
              "      <td>NaN</td>\n",
              "      <td>NaN</td>\n",
              "      <td>False</td>\n",
              "    </tr>\n",
              "    <tr>\n",
              "      <th>641910</th>\n",
              "      <td>186770399</td>\n",
              "      <td>186770399</td>\n",
              "      <td>7500.0</td>\n",
              "      <td>2568.65</td>\n",
              "      <td>2016-12-09T04:20:35</td>\n",
              "      <td>223.70</td>\n",
              "      <td>Blue Mountain eCards</td>\n",
              "      <td>US</td>\n",
              "      <td>US</td>\n",
              "      <td>09</td>\n",
              "      <td>01</td>\n",
              "      <td>online_gifts</td>\n",
              "      <td>05/2026</td>\n",
              "      <td>2015-11-04</td>\n",
              "      <td>2016-06-03</td>\n",
              "      <td>127</td>\n",
              "      <td>127</td>\n",
              "      <td>5432</td>\n",
              "      <td>PURCHASE</td>\n",
              "      <td>False</td>\n",
              "      <td>NaN</td>\n",
              "      <td>4931.35</td>\n",
              "      <td>NaN</td>\n",
              "      <td>NaN</td>\n",
              "      <td>NaN</td>\n",
              "      <td>False</td>\n",
              "      <td>NaN</td>\n",
              "      <td>NaN</td>\n",
              "      <td>False</td>\n",
              "    </tr>\n",
              "    <tr>\n",
              "      <th>641911</th>\n",
              "      <td>186770399</td>\n",
              "      <td>186770399</td>\n",
              "      <td>7500.0</td>\n",
              "      <td>2344.95</td>\n",
              "      <td>2016-12-16T07:58:23</td>\n",
              "      <td>138.42</td>\n",
              "      <td>Fresh Flowers</td>\n",
              "      <td>US</td>\n",
              "      <td>US</td>\n",
              "      <td>02</td>\n",
              "      <td>01</td>\n",
              "      <td>online_gifts</td>\n",
              "      <td>10/2019</td>\n",
              "      <td>2015-11-04</td>\n",
              "      <td>2016-06-03</td>\n",
              "      <td>127</td>\n",
              "      <td>127</td>\n",
              "      <td>5432</td>\n",
              "      <td>PURCHASE</td>\n",
              "      <td>False</td>\n",
              "      <td>NaN</td>\n",
              "      <td>5155.05</td>\n",
              "      <td>NaN</td>\n",
              "      <td>NaN</td>\n",
              "      <td>NaN</td>\n",
              "      <td>False</td>\n",
              "      <td>NaN</td>\n",
              "      <td>NaN</td>\n",
              "      <td>False</td>\n",
              "    </tr>\n",
              "    <tr>\n",
              "      <th>641912</th>\n",
              "      <td>186770399</td>\n",
              "      <td>186770399</td>\n",
              "      <td>7500.0</td>\n",
              "      <td>2206.53</td>\n",
              "      <td>2016-12-19T02:30:35</td>\n",
              "      <td>16.31</td>\n",
              "      <td>abc.com</td>\n",
              "      <td>US</td>\n",
              "      <td>US</td>\n",
              "      <td>09</td>\n",
              "      <td>08</td>\n",
              "      <td>online_subscriptions</td>\n",
              "      <td>11/2029</td>\n",
              "      <td>2015-11-04</td>\n",
              "      <td>2016-06-03</td>\n",
              "      <td>127</td>\n",
              "      <td>127</td>\n",
              "      <td>5432</td>\n",
              "      <td>PURCHASE</td>\n",
              "      <td>False</td>\n",
              "      <td>NaN</td>\n",
              "      <td>5293.47</td>\n",
              "      <td>NaN</td>\n",
              "      <td>NaN</td>\n",
              "      <td>NaN</td>\n",
              "      <td>False</td>\n",
              "      <td>NaN</td>\n",
              "      <td>NaN</td>\n",
              "      <td>False</td>\n",
              "    </tr>\n",
              "    <tr>\n",
              "      <th>641913</th>\n",
              "      <td>186770399</td>\n",
              "      <td>186770399</td>\n",
              "      <td>7500.0</td>\n",
              "      <td>2190.22</td>\n",
              "      <td>2016-12-28T11:14:14</td>\n",
              "      <td>32.53</td>\n",
              "      <td>Next Day Online Services</td>\n",
              "      <td>US</td>\n",
              "      <td>US</td>\n",
              "      <td>09</td>\n",
              "      <td>01</td>\n",
              "      <td>online_gifts</td>\n",
              "      <td>08/2025</td>\n",
              "      <td>2015-11-04</td>\n",
              "      <td>2016-06-03</td>\n",
              "      <td>127</td>\n",
              "      <td>127</td>\n",
              "      <td>5432</td>\n",
              "      <td>PURCHASE</td>\n",
              "      <td>False</td>\n",
              "      <td>NaN</td>\n",
              "      <td>5309.78</td>\n",
              "      <td>NaN</td>\n",
              "      <td>NaN</td>\n",
              "      <td>NaN</td>\n",
              "      <td>False</td>\n",
              "      <td>NaN</td>\n",
              "      <td>NaN</td>\n",
              "      <td>False</td>\n",
              "    </tr>\n",
              "  </tbody>\n",
              "</table>\n",
              "<p>641914 rows × 29 columns</p>\n",
              "</div>"
            ],
            "text/plain": [
              "       accountNumber customerId  ...  recurringAuthInd  expirationDateKeyInMatch\n",
              "0          733493772  733493772  ...               NaN                     False\n",
              "1          733493772  733493772  ...               NaN                     False\n",
              "2          733493772  733493772  ...               NaN                     False\n",
              "3          733493772  733493772  ...               NaN                     False\n",
              "4          733493772  733493772  ...               NaN                     False\n",
              "...              ...        ...  ...               ...                       ...\n",
              "641909     186770399  186770399  ...               NaN                     False\n",
              "641910     186770399  186770399  ...               NaN                     False\n",
              "641911     186770399  186770399  ...               NaN                     False\n",
              "641912     186770399  186770399  ...               NaN                     False\n",
              "641913     186770399  186770399  ...               NaN                     False\n",
              "\n",
              "[641914 rows x 29 columns]"
            ]
          },
          "metadata": {
            "tags": []
          },
          "execution_count": 1
        }
      ]
    },
    {
      "cell_type": "markdown",
      "metadata": {
        "id": "852X1iqBMWWU"
      },
      "source": [
        "Let's get a better visual of what features are represented in this dataset."
      ]
    },
    {
      "cell_type": "code",
      "metadata": {
        "colab": {
          "base_uri": "https://localhost:8080/"
        },
        "id": "ZsFJIDfPJzik",
        "outputId": "8dd14f76-9d10-42f3-ecca-ea3f0f9c3724"
      },
      "source": [
        "print(len(transaction_df.columns))\n",
        "transaction_df.dtypes"
      ],
      "execution_count": 2,
      "outputs": [
        {
          "output_type": "stream",
          "text": [
            "29\n"
          ],
          "name": "stdout"
        },
        {
          "output_type": "execute_result",
          "data": {
            "text/plain": [
              "accountNumber                object\n",
              "customerId                   object\n",
              "creditLimit                 float64\n",
              "availableMoney              float64\n",
              "transactionDateTime          object\n",
              "transactionAmount           float64\n",
              "merchantName                 object\n",
              "acqCountry                   object\n",
              "merchantCountryCode          object\n",
              "posEntryMode                 object\n",
              "posConditionCode             object\n",
              "merchantCategoryCode         object\n",
              "currentExpDate               object\n",
              "accountOpenDate              object\n",
              "dateOfLastAddressChange      object\n",
              "cardCVV                      object\n",
              "enteredCVV                   object\n",
              "cardLast4Digits              object\n",
              "transactionType              object\n",
              "isFraud                        bool\n",
              "echoBuffer                  float64\n",
              "currentBalance              float64\n",
              "merchantCity                float64\n",
              "merchantState               float64\n",
              "merchantZip                 float64\n",
              "cardPresent                    bool\n",
              "posOnPremises               float64\n",
              "recurringAuthInd            float64\n",
              "expirationDateKeyInMatch       bool\n",
              "dtype: object"
            ]
          },
          "metadata": {
            "tags": []
          },
          "execution_count": 2
        }
      ]
    },
    {
      "cell_type": "markdown",
      "metadata": {
        "id": "xjkZtl7WUH0E"
      },
      "source": [
        "Some of these categories seem to be useless to keep. Account Number, Id, and card number are merely for identification purposes, and thus can be removed entirely. Merchant Name seems like it wouldn't be that useful, but Merchant Category Code seems to be (there are far too many businesses for the models to be able to recognize the impact of specific businesses, the categories of business seems easier to use)."
      ]
    },
    {
      "cell_type": "code",
      "metadata": {
        "id": "pm-sQBkDW2wZ"
      },
      "source": [
        "# Removes features\n",
        "del transaction_df['accountNumber']\n",
        "del transaction_df['customerId']\n",
        "del transaction_df['cardLast4Digits']\n",
        "del transaction_df['merchantName']"
      ],
      "execution_count": 3,
      "outputs": []
    },
    {
      "cell_type": "markdown",
      "metadata": {
        "id": "7-Bbelm7NPcG"
      },
      "source": [
        "### Missing Data\n",
        "We can see that there are 24 variables that are given to determine whether if there is fraud or not. Not all of the data exists for each transaction, however, so let's see how much each category is affect by missing data."
      ]
    },
    {
      "cell_type": "code",
      "metadata": {
        "colab": {
          "base_uri": "https://localhost:8080/"
        },
        "id": "25JKYk28N7ba",
        "outputId": "e5911aaf-4d12-466a-f069-b53d8b3e49a9"
      },
      "source": [
        "c,r = transaction_df.shape\n",
        "\n",
        "print('Percentage of Data Available')\n",
        "print('----------------------------')\n",
        "for col in transaction_df.columns:\n",
        "  null_data = 1.0 * sum(transaction_df[col].isnull()) / c\n",
        "  print('  {0}: {1:.3f}%'.format(col,(1-null_data) * 100))"
      ],
      "execution_count": 4,
      "outputs": [
        {
          "output_type": "stream",
          "text": [
            "Percentage of Data Available\n",
            "----------------------------\n",
            "  creditLimit: 100.000%\n",
            "  availableMoney: 100.000%\n",
            "  transactionDateTime: 100.000%\n",
            "  transactionAmount: 100.000%\n",
            "  acqCountry: 99.390%\n",
            "  merchantCountryCode: 99.903%\n",
            "  posEntryMode: 99.479%\n",
            "  posConditionCode: 99.955%\n",
            "  merchantCategoryCode: 100.000%\n",
            "  currentExpDate: 100.000%\n",
            "  accountOpenDate: 100.000%\n",
            "  dateOfLastAddressChange: 100.000%\n",
            "  cardCVV: 100.000%\n",
            "  enteredCVV: 100.000%\n",
            "  transactionType: 99.908%\n",
            "  isFraud: 100.000%\n",
            "  echoBuffer: 0.000%\n",
            "  currentBalance: 100.000%\n",
            "  merchantCity: 0.000%\n",
            "  merchantState: 0.000%\n",
            "  merchantZip: 0.000%\n",
            "  cardPresent: 100.000%\n",
            "  posOnPremises: 0.000%\n",
            "  recurringAuthInd: 0.000%\n",
            "  expirationDateKeyInMatch: 100.000%\n"
          ],
          "name": "stdout"
        }
      ]
    },
    {
      "cell_type": "markdown",
      "metadata": {
        "id": "N-yA4fe1PP8O"
      },
      "source": [
        "There are categories where there is no data to work with (existing data is 0%). We can just remove that data without any loss of information."
      ]
    },
    {
      "cell_type": "code",
      "metadata": {
        "colab": {
          "base_uri": "https://localhost:8080/"
        },
        "id": "9PglbBDkPlBu",
        "outputId": "253646e5-32ca-4a2f-fcc6-0a5b33a44347"
      },
      "source": [
        "# Removes empty columns from dataframe\n",
        "for col in transaction_df.columns:\n",
        "  null_data = 1.0 * sum(transaction_df[col].isnull()) / c\n",
        "  if null_data == 1:\n",
        "    del transaction_df[col]\n",
        "\n",
        "# Shows total amount of columns remaining\n",
        "print(len(transaction_df.columns))"
      ],
      "execution_count": 5,
      "outputs": [
        {
          "output_type": "stream",
          "text": [
            "19\n"
          ],
          "name": "stdout"
        }
      ]
    },
    {
      "cell_type": "markdown",
      "metadata": {
        "id": "5TL8Ug9xxVhk"
      },
      "source": [
        "### Imputation\n",
        "As for other missing data in the set, let's look at all the methods that had gaps."
      ]
    },
    {
      "cell_type": "code",
      "metadata": {
        "colab": {
          "base_uri": "https://localhost:8080/"
        },
        "id": "WinbgZQyoMi7",
        "outputId": "76973aeb-8818-4af3-8d12-d1ae6dcac3d2"
      },
      "source": [
        "# Will hold all the columns with missing data for later\n",
        "missing_data = []\n",
        "\n",
        "print('Missing data count for every non-complete feature.')\n",
        "for col in transaction_df.columns:\n",
        "  cnt = sum(transaction_df[col].isnull())\n",
        "  null_data = 1.0 * cnt / c\n",
        "  if null_data != 0:\n",
        "    print('  {0}: {1}'.format(col,cnt))\n",
        "    missing_data.append(col)"
      ],
      "execution_count": 6,
      "outputs": [
        {
          "output_type": "stream",
          "text": [
            "Missing data count for every non-complete feature.\n",
            "  acqCountry: 3913\n",
            "  merchantCountryCode: 624\n",
            "  posEntryMode: 3345\n",
            "  posConditionCode: 287\n",
            "  transactionType: 589\n"
          ],
          "name": "stdout"
        }
      ]
    },
    {
      "cell_type": "markdown",
      "metadata": {
        "id": "GAeX9Bh60G20"
      },
      "source": [
        "One way to fix the gaps is imputation. Since all of the categories with missing data are categorical, let's use the mode of each column to fill in the gaps."
      ]
    },
    {
      "cell_type": "code",
      "metadata": {
        "colab": {
          "base_uri": "https://localhost:8080/"
        },
        "id": "wxp0h9QU0GIe",
        "outputId": "d02a37ca-1e40-4198-dcc8-4bb2f6389909"
      },
      "source": [
        "# fills in data with the mode of each respective column\n",
        "for feature in missing_data:\n",
        "  transaction_df[feature].fillna(transaction_df[feature].mode()[0],inplace=True)\n",
        "\n",
        "# Checks to make sure there are no more missing values\n",
        "print('Missing data count for every non-complete feature.')\n",
        "for feature in missing_data:\n",
        "  cnt = sum(transaction_df[feature].isnull())\n",
        "  print('  {0}: {1}'.format(feature,cnt))"
      ],
      "execution_count": 7,
      "outputs": [
        {
          "output_type": "stream",
          "text": [
            "Missing data count for every non-complete feature.\n",
            "  acqCountry: 0\n",
            "  merchantCountryCode: 0\n",
            "  posEntryMode: 0\n",
            "  posConditionCode: 0\n",
            "  transactionType: 0\n"
          ],
          "name": "stdout"
        }
      ]
    },
    {
      "cell_type": "markdown",
      "metadata": {
        "id": "Jn0X2eKW8-v9"
      },
      "source": [
        "### Encoding Categorical Data\n",
        "Now that the dataset is complete, let's alter some of the data so that the learning algorithms have an easier time understanding the 'meaning' of the data. One useful method is one-hot-encoding, which allows for categorical data to be split into binary vectors. These vectors are represented as multiple columns holding binary data. In order to limit the curse of dimensionality, let's only encode features that have less than 20 unique categories (features with a small cardinality)."
      ]
    },
    {
      "cell_type": "code",
      "metadata": {
        "colab": {
          "base_uri": "https://localhost:8080/"
        },
        "id": "Iua6Pn3q-iTg",
        "outputId": "4b68e318-3d65-45c9-cc45-48b2c2e78fcc"
      },
      "source": [
        "large_features = []\n",
        "\n",
        "# Encode features with few categories\n",
        "threshold = 20\n",
        "print('One-hot Encoded Features.')\n",
        "for col in transaction_df:\n",
        "  # Tests if data is categorical\n",
        "  if transaction_df[col].dtype == object:\n",
        "    # Tests how many categories are in feature\n",
        "    unique_vals = len(transaction_df[col].unique())\n",
        "    if unique_vals < threshold:\n",
        "      # Encodes feature\n",
        "      x = pd.get_dummies(transaction_df[col],prefix=col)\n",
        "      # Removes non-encoded feature\n",
        "      del transaction_df[col]\n",
        "      # Adds encodings to the dataframe\n",
        "      transaction_df = transaction_df.join(x)\n",
        "      print('  {0}: {1}'.format(col, [i for i in x]))\n",
        "    else:\n",
        "      # saves what the large features are for later\n",
        "      large_features.append(col)"
      ],
      "execution_count": 8,
      "outputs": [
        {
          "output_type": "stream",
          "text": [
            "One-hot Encoded Features.\n",
            "  acqCountry: ['acqCountry_CAN', 'acqCountry_MEX', 'acqCountry_PR', 'acqCountry_US']\n",
            "  merchantCountryCode: ['merchantCountryCode_CAN', 'merchantCountryCode_MEX', 'merchantCountryCode_PR', 'merchantCountryCode_US']\n",
            "  posEntryMode: ['posEntryMode_02', 'posEntryMode_05', 'posEntryMode_09', 'posEntryMode_80', 'posEntryMode_90']\n",
            "  posConditionCode: ['posConditionCode_01', 'posConditionCode_08', 'posConditionCode_99']\n",
            "  merchantCategoryCode: ['merchantCategoryCode_airline', 'merchantCategoryCode_auto', 'merchantCategoryCode_cable/phone', 'merchantCategoryCode_entertainment', 'merchantCategoryCode_fastfood', 'merchantCategoryCode_food', 'merchantCategoryCode_food_delivery', 'merchantCategoryCode_fuel', 'merchantCategoryCode_furniture', 'merchantCategoryCode_gym', 'merchantCategoryCode_health', 'merchantCategoryCode_hotels', 'merchantCategoryCode_mobileapps', 'merchantCategoryCode_online_gifts', 'merchantCategoryCode_online_retail', 'merchantCategoryCode_online_subscriptions', 'merchantCategoryCode_personal care', 'merchantCategoryCode_rideshare', 'merchantCategoryCode_subscriptions']\n",
            "  transactionType: ['transactionType_ADDRESS_VERIFICATION', 'transactionType_PURCHASE', 'transactionType_REVERSAL']\n"
          ],
          "name": "stdout"
        }
      ]
    },
    {
      "cell_type": "markdown",
      "metadata": {
        "id": "ft5uU28fQQeJ"
      },
      "source": [
        "Let's see what the remaining features to be encoded are:"
      ]
    },
    {
      "cell_type": "code",
      "metadata": {
        "colab": {
          "base_uri": "https://localhost:8080/"
        },
        "id": "4NaJqsU5OYxL",
        "outputId": "8276470c-77eb-4b10-9880-e3c88a6b3633"
      },
      "source": [
        "print(large_features)"
      ],
      "execution_count": 9,
      "outputs": [
        {
          "output_type": "stream",
          "text": [
            "['transactionDateTime', 'currentExpDate', 'accountOpenDate', 'dateOfLastAddressChange', 'cardCVV', 'enteredCVV']\n"
          ],
          "name": "stdout"
        }
      ]
    },
    {
      "cell_type": "markdown",
      "metadata": {
        "id": "RjrORE4BQlGY"
      },
      "source": [
        "These categories may be useful when combined with other categories. Some useful ways to extrapolate useful information from these features are as follows:\n",
        "* Knowing the difference in time between the transaction and accounting opening; expiration date; and address change might be useful numerical data.\n",
        "* Knowing whether if there was a difference in the card CVV and the entered one also seems like a good binary indicator to have.\n",
        "* Knowing the time of day (whether the transaction happened during the day or at night) might be useful.\n",
        "\n",
        "Let's add these constructed features to the dataset."
      ]
    },
    {
      "cell_type": "code",
      "metadata": {
        "id": "ptB1QggMnW0d"
      },
      "source": [
        "import datetime\n",
        "\n",
        "transaction_date = transaction_df['transactionDateTime'].map(lambda x: \n",
        "  datetime.datetime.strptime(x, '%Y-%m-%dT%H:%M:%S'))\n",
        "\n",
        "open_date = transaction_df['accountOpenDate'].map(lambda x: \n",
        "  datetime.datetime.strptime(x, '%Y-%m-%d'))\n",
        "expiration_date = transaction_df['currentExpDate'].map(lambda x: \n",
        "  datetime.datetime.strptime(x, '%m/%Y')) + pd.tseries.offsets.MonthEnd()\n",
        "address_change = transaction_df['dateOfLastAddressChange'].map(lambda x: \n",
        "  datetime.datetime.strptime(x, '%Y-%m-%d'))"
      ],
      "execution_count": 10,
      "outputs": []
    },
    {
      "cell_type": "code",
      "metadata": {
        "id": "UfJt-zvIx96e"
      },
      "source": [
        "# Gets differences in days between various features and adds them to dataframe\n",
        "\n",
        "days_since_open = (transaction_date - open_date).map(lambda x: x.days)\n",
        "days_before_expiration = (expiration_date - transaction_date).map(lambda x: x.days)\n",
        "days_since_addr = (transaction_date - address_change).map(lambda x: x.days)\n",
        "\n",
        "del transaction_df['accountOpenDate']\n",
        "del transaction_df['currentExpDate']\n",
        "del transaction_df['dateOfLastAddressChange']\n",
        "\n",
        "transaction_df = transaction_df.merge(\n",
        "    days_since_open.to_frame(name='days_since_open'),left_index=True,right_index=True)\n",
        "transaction_df = transaction_df.merge(\n",
        "    days_before_expiration.to_frame(name='days_before_exp'),left_index=True,right_index=True)\n",
        "transaction_df = transaction_df.merge(\n",
        "    days_since_addr.to_frame(name='days_since_addr'),left_index=True,right_index=True)"
      ],
      "execution_count": 11,
      "outputs": []
    },
    {
      "cell_type": "code",
      "metadata": {
        "id": "eaGI7Y-_ZpRI"
      },
      "source": [
        "# Gets whether if there was a difference in entered CVV\n",
        "\n",
        "isCVVDiff = transaction_df['cardCVV'].astype(int) - transaction_df['enteredCVV'].astype(int)\n",
        "isCVVDiff = isCVVDiff != 0\n",
        "del transaction_df['cardCVV']\n",
        "del transaction_df['enteredCVV']\n",
        "transaction_df = transaction_df.merge(\n",
        "    isCVVDiff.to_frame(name='isCVVDiff'),left_index=True,right_index=True)"
      ],
      "execution_count": 12,
      "outputs": []
    },
    {
      "cell_type": "code",
      "metadata": {
        "id": "KlMpm83Af7wi"
      },
      "source": [
        "# Determines whether the transaction happened at night and adds it to dataframe\n",
        "\n",
        "# Grabs the hour\n",
        "isNight = transaction_df['transactionDateTime'].str.slice(11,13).astype(int)\n",
        "# Considers the hours from 6pm to 6am 'night'\n",
        "isNight = (isNight >= 18) | (isNight < 6)\n",
        "del transaction_df['transactionDateTime']\n",
        "transaction_df = transaction_df.merge(\n",
        "    isNight.to_frame(name='isNight'),left_index=True,right_index=True)"
      ],
      "execution_count": 13,
      "outputs": []
    },
    {
      "cell_type": "markdown",
      "metadata": {
        "id": "ZttgyvsWj7a5"
      },
      "source": [
        "The last step in preparing the data is to separate the labels (whether if there is fraud) from the features and convert them into numpy arrays."
      ]
    },
    {
      "cell_type": "code",
      "metadata": {
        "colab": {
          "base_uri": "https://localhost:8080/"
        },
        "id": "3rdSZR6bl3eO",
        "outputId": "69ec777e-366d-48d7-f533-45c4f19f745d"
      },
      "source": [
        "labels = transaction_df['isFraud']\n",
        "transaction_df.pop('isFraud')"
      ],
      "execution_count": 14,
      "outputs": [
        {
          "output_type": "execute_result",
          "data": {
            "text/plain": [
              "0          True\n",
              "1         False\n",
              "2         False\n",
              "3          True\n",
              "4         False\n",
              "          ...  \n",
              "641909    False\n",
              "641910    False\n",
              "641911    False\n",
              "641912    False\n",
              "641913    False\n",
              "Name: isFraud, Length: 641914, dtype: bool"
            ]
          },
          "metadata": {
            "tags": []
          },
          "execution_count": 14
        }
      ]
    },
    {
      "cell_type": "markdown",
      "metadata": {
        "id": "M0vRjf7V00cg"
      },
      "source": [
        "## Step 2: Data Visualization\n",
        "Now that the dataset is more prepared for learning, let's learn more about the data through some visuals."
      ]
    },
    {
      "cell_type": "markdown",
      "metadata": {
        "id": "iGOeJA_8Cctk"
      },
      "source": [
        "What time of day are fraudulent transactions most likely to occur?"
      ]
    },
    {
      "cell_type": "code",
      "metadata": {
        "colab": {
          "base_uri": "https://localhost:8080/",
          "height": 284
        },
        "id": "02OCdlayCCRI",
        "outputId": "151cfa0b-32d8-4dbd-8940-e47131542731"
      },
      "source": [
        "import seaborn as sns\n",
        "import matplotlib.pyplot as plt\n",
        "\n",
        "sns.set_theme(style=\"whitegrid\")\n",
        "\n",
        "normal_transactions = len(labels[labels==False])\n",
        "fraud_transactions = len(labels[labels==True])\n",
        "\n",
        "ax = sns.barplot(x=[\"Normal\",\"Fraud\"],y=[normal_transactions,fraud_transactions])\n",
        "\n",
        "ax.text(0,normal_transactions,normal_transactions,color='black',ha='center')\n",
        "ax.text(1,fraud_transactions,fraud_transactions,color='black',ha='center')\n",
        "ax.set_title('Amount of Fraudulent Transactions')\n",
        "\n",
        "plt.show()"
      ],
      "execution_count": 15,
      "outputs": [
        {
          "output_type": "display_data",
          "data": {
            "image/png": "[encoded data removed]",
            "text/plain": [
              "<Figure size 432x288 with 1 Axes>"
            ]
          },
          "metadata": {
            "tags": []
          }
        }
      ]
    },
    {
      "cell_type": "markdown",
      "metadata": {
        "id": "3CLxkL2fMZCy"
      },
      "source": [
        "As to be expected, this data is heavilly unbalanced... highly favoring normal transactions over fraudulent ones. Now, let's test a hypothesis from before: out of all the fraudulent transactions, are there more that happen at a particular time of day?"
      ]
    },
    {
      "cell_type": "code",
      "metadata": {
        "colab": {
          "base_uri": "https://localhost:8080/",
          "height": 301
        },
        "id": "rfy8_rUiL_E2",
        "outputId": "1eec1d6b-4032-4fa3-e7c1-26e2d8c1c931"
      },
      "source": [
        "transaction_time = transaction_date.map(lambda x: x.hour * 3600 + \n",
        "                                        x.minute * 60 + x.second)\n",
        "\n",
        "sns.set_style('dark')\n",
        "\n",
        "ax = sns.violinplot(x=transaction_time.values[labels == True])\n",
        "\n",
        "ax.set(xlabel='Hour')\n",
        "ax.set_title('Fraudulent Transaction Distribution Throughout a Day')\n",
        "ax.set_xticks([i*86400/5 + 8640 for i in range(5)])\n",
        "ax.set_xticklabels([i*6 for i in range(5)])\n",
        "\n",
        "plt.show()"
      ],
      "execution_count": 16,
      "outputs": [
        {
          "output_type": "display_data",
          "data": {
            "image/png": "[encoded data removed]",
            "text/plain": [
              "<Figure size 432x288 with 1 Axes>"
            ]
          },
          "metadata": {
            "tags": []
          }
        }
      ]
    },
    {
      "cell_type": "markdown",
      "metadata": {
        "id": "Jgb2nr11Pgox"
      },
      "source": [
        "Uh oh... it appears that time does not a major role in when credit card fraud occurs (at least from first glance). Combined with other features, perhaps the day/night difference may play some role in helping determine when a transaction is fraudulent. Thus, we will leave the data as is.\n",
        "\n",
        "What about where fraudulent transactions took place? Let's take a look at a couple of different types of merchants and see whether if there is any difference in the amount of fraud at these places."
      ]
    },
    {
      "cell_type": "code",
      "metadata": {
        "id": "erBCbRl4tbkf",
        "colab": {
          "base_uri": "https://localhost:8080/",
          "height": 284
        },
        "outputId": "689a3872-dd79-41aa-e9cc-1a0e69922f34"
      },
      "source": [
        "sns.set_theme(style=\"whitegrid\")\n",
        "\n",
        "# Gets all the list of merchants\n",
        "merch_lst = [s for s in transaction_df.columns if \"merchantCategoryCode\" in s]\n",
        "# Gets fraud for each merchant\n",
        "merch_fraud = [sum(labels & transaction_df[s]) for s in merch_lst]\n",
        "\n",
        "ax = sns.barplot(x=[i for i in range(len(merch_fraud))],y=merch_fraud)\n",
        "\n",
        "ax.set_title('Amount of Fraudulent Transactions at Merchant Type')\n",
        "\n",
        "plt.show()"
      ],
      "execution_count": 17,
      "outputs": [
        {
          "output_type": "display_data",
          "data": {
            "image/png": "[encoded data removed]",
            "text/plain": [
              "<Figure size 432x288 with 1 Axes>"
            ]
          },
          "metadata": {
            "tags": []
          }
        }
      ]
    },
    {
      "cell_type": "markdown",
      "metadata": {
        "id": "d6-P-J6Rh4WX"
      },
      "source": [
        "Let's compare it to normal transactions at these places:"
      ]
    },
    {
      "cell_type": "code",
      "metadata": {
        "colab": {
          "base_uri": "https://localhost:8080/",
          "height": 284
        },
        "id": "HMaxqjMAiCIZ",
        "outputId": "07e7c14b-60f7-49f6-e240-69978d340bcd"
      },
      "source": [
        "# Gets fraud for each merchant\n",
        "merch_normal = [sum((labels==0) & transaction_df[s]) for s in merch_lst]\n",
        "\n",
        "ax = sns.barplot(x=[i for i in range(len(merch_normal))],y=merch_normal)\n",
        "\n",
        "ax.set_title('Amount of Normal Transactions at Merchant Type')\n",
        "\n",
        "plt.show()"
      ],
      "execution_count": 18,
      "outputs": [
        {
          "output_type": "display_data",
          "data": {
            "image/png": "[encoded data removed]",
            "text/plain": [
              "<Figure size 432x288 with 1 Axes>"
            ]
          },
          "metadata": {
            "tags": []
          }
        }
      ]
    },
    {
      "cell_type": "markdown",
      "metadata": {
        "id": "1RO7H6Qciz8H"
      },
      "source": [
        "The ratio is close, and that is to be expected. Any differences however may be useful for the models to determine whether if a transaction is fraudulent or not."
      ]
    },
    {
      "cell_type": "markdown",
      "metadata": {
        "id": "ydS9buCEZ2Yb"
      },
      "source": [
        "## Step 3: Imbalanced Dataset\n",
        "Before we train different models, let's fix the imbalanced dataset issue found in the previous section. First, let's transform the dataframe into numpy arrays."
      ]
    },
    {
      "cell_type": "code",
      "metadata": {
        "id": "P8YeSez5Zl-C"
      },
      "source": [
        "transaction_df_np = transaction_df.values\n",
        "labels_np = labels.values"
      ],
      "execution_count": 19,
      "outputs": []
    },
    {
      "cell_type": "markdown",
      "metadata": {
        "id": "AaWaOkTnnqJS"
      },
      "source": [
        "### Data Split\n",
        "Let's also separate the data into a 80/20 test-train split."
      ]
    },
    {
      "cell_type": "code",
      "metadata": {
        "id": "G4Ue-EfWn3U4"
      },
      "source": [
        "from sklearn.model_selection import train_test_split\n",
        "\n",
        "# Splits the original data into training/testing sets\n",
        "X_train, X_test, y_train, y_test = train_test_split(\n",
        "    transaction_df_np, labels_np, test_size=0.2)"
      ],
      "execution_count": 20,
      "outputs": []
    },
    {
      "cell_type": "markdown",
      "metadata": {
        "id": "WVblH5eueuEI"
      },
      "source": [
        "### SMOTE\r\n",
        "We can use a method called SMOTE to artifically balance the training dataset to improve learning [1]. SMOTE tends to work better when combined with undersampling of the larger class, so we will do that here as well."
      ]
    },
    {
      "cell_type": "code",
      "metadata": {
        "colab": {
          "base_uri": "https://localhost:8080/"
        },
        "id": "1e2OnFQkezIW",
        "outputId": "dec0114a-144a-4d0e-d997-d7116b8e997f"
      },
      "source": [
        "from imblearn.over_sampling import SMOTE\n",
        "from imblearn.under_sampling import RandomUnderSampler\n",
        "\n",
        "# Oversamples fraud to be 0.1 times the size of normal\n",
        "over = SMOTE(sampling_strategy = 0.1)\n",
        "# Undersamples normal so that fraud is 1 times the size (makes balanced)\n",
        "under = RandomUnderSampler(sampling_strategy = 1)\n",
        "# Transform the dataset\n",
        "X_train_smote, y_train_smote = over.fit_resample(X_train, y_train)\n",
        "X_train_smote, y_train_smote = under.fit_resample(X_train_smote, y_train_smote)"
      ],
      "execution_count": 21,
      "outputs": [
        {
          "output_type": "stream",
          "text": [
            "/usr/local/lib/python3.6/dist-packages/sklearn/externals/six.py:31: FutureWarning: The module is deprecated in version 0.21 and will be removed in version 0.23 since we've dropped support for Python 2.7. Please rely on the official version of six (https://pypi.org/project/six/).\n",
            "  \"(https://pypi.org/project/six/).\", FutureWarning)\n",
            "/usr/local/lib/python3.6/dist-packages/sklearn/utils/deprecation.py:144: FutureWarning: The sklearn.neighbors.base module is  deprecated in version 0.22 and will be removed in version 0.24. The corresponding classes / functions should instead be imported from sklearn.neighbors. Anything that cannot be imported from sklearn.neighbors is now part of the private API.\n",
            "  warnings.warn(message, FutureWarning)\n",
            "/usr/local/lib/python3.6/dist-packages/sklearn/utils/deprecation.py:87: FutureWarning: Function safe_indexing is deprecated; safe_indexing is deprecated in version 0.22 and will be removed in version 0.24.\n",
            "  warnings.warn(msg, category=FutureWarning)\n",
            "/usr/local/lib/python3.6/dist-packages/sklearn/utils/deprecation.py:87: FutureWarning: Function safe_indexing is deprecated; safe_indexing is deprecated in version 0.22 and will be removed in version 0.24.\n",
            "  warnings.warn(msg, category=FutureWarning)\n"
          ],
          "name": "stderr"
        }
      ]
    },
    {
      "cell_type": "markdown",
      "metadata": {
        "id": "G1ko5UTLmUSJ"
      },
      "source": [
        "Let's compare the two training sets now:"
      ]
    },
    {
      "cell_type": "code",
      "metadata": {
        "colab": {
          "base_uri": "https://localhost:8080/"
        },
        "id": "f5nAZXB-mTfj",
        "outputId": "e10b6922-c98d-43ce-9eac-d7762706bc91"
      },
      "source": [
        "from collections import Counter\n",
        "\n",
        "print('Original Training Set:')\n",
        "print(Counter(y_train))\n",
        "print('\\nTraining Set with SMOTE and Undersampling:')\n",
        "print(Counter(y_train_smote))"
      ],
      "execution_count": 22,
      "outputs": [
        {
          "output_type": "stream",
          "text": [
            "Original Training Set:\n",
            "Counter({False: 504417, True: 9114})\n",
            "\n",
            "Training Set with SMOTE and Undersampling:\n",
            "Counter({False: 50441, True: 50441})\n"
          ],
          "name": "stdout"
        }
      ]
    },
    {
      "cell_type": "markdown",
      "metadata": {
        "id": "CoBSunaJlfUz"
      },
      "source": [
        "We will use this new SMOTE training set with the original and compare the output at the end."
      ]
    },
    {
      "cell_type": "markdown",
      "metadata": {
        "id": "TRPMGIQ9Zc3C"
      },
      "source": [
        "## Step 4: Modeling and Cross Validation\n",
        "Now, let's use the data we have and try to learn what is fraudulent and what is real. Let's test our dataset(s) on a few different algorithms and compare their performance."
      ]
    },
    {
      "cell_type": "markdown",
      "metadata": {
        "id": "HnhI0gTaj4Mv"
      },
      "source": [
        "### Imports and Meta-parameters"
      ]
    },
    {
      "cell_type": "code",
      "metadata": {
        "id": "Dw21ey43j3do"
      },
      "source": [
        "from sklearn.model_selection import cross_val_score\n",
        "from hyperopt import fmin,tpe,hp,STATUS_OK,Trials,rand\n",
        "\n",
        "# How many iterations of Bayesian Optimization each algorithm will go through\n",
        "evals = 5"
      ],
      "execution_count": 23,
      "outputs": []
    },
    {
      "cell_type": "markdown",
      "metadata": {
        "id": "9FTPbffQlr35"
      },
      "source": [
        "### Random Forest\n",
        "For the first classifier, let's try a random forest classifier on our data. This will be the classifier where we compare the imbalanced data to the balanced data, so we will run the testing twice. For all the classfiers, we're going to optimize the hyperparamters for them using Bayesian Optimization. We will use AUROC to score the models, and in the next section evaluate with F1 (the reason for not using it now is clear later) and AUROC. As for the accuracy metric, it would not be suitable because of the imbalanced dataset. We could use it on the balanced (SMOTE) dataset, but for consistency AUROC and F1 are fine."
      ]
    },
    {
      "cell_type": "code",
      "metadata": {
        "colab": {
          "base_uri": "https://localhost:8080/"
        },
        "id": "dFbOpZ70eCH6",
        "outputId": "dcfaceaf-5e53-4a8a-851f-01bb36b747b5"
      },
      "source": [
        "from sklearn.ensemble import RandomForestClassifier\n",
        "\n",
        "rf_trials = Trials()\n",
        "\n",
        "# Defines the objective function\n",
        "def random_forest_tuner(params):\n",
        "    model = RandomForestClassifier(**params)\n",
        "    # Gets auroc score from model predictions using cross validation, k=5\n",
        "    # inherently makes a validation set to use\n",
        "    auroc = cross_val_score(model, X_train, y_train, cv=5,\n",
        "                            scoring='roc_auc').mean()\n",
        "    # Minimizes function, therefore -auroc\n",
        "    return {\"loss\": -auroc, \"status\": STATUS_OK}\n",
        "\n",
        "max_features = ['log2','sqrt']\n",
        "criteria = ['entropy','gini']\n",
        "\n",
        "random_forest_space = {\n",
        "    \"max_features\": hp.choice('max_features',max_features),\n",
        "    \"criterion\": hp.choice('criterion', criteria),\n",
        "    \"max_depth\": hp.choice('max_depth', np.arange(1, 12, dtype=int)),\n",
        "    \"n_estimators\": hp.choice('n_estimators',np.arange(20,100, dtype=int))\n",
        "}\n",
        "\n",
        "rf_best = fmin(fn=random_forest_tuner,\n",
        "    \t\tspace=random_forest_space,\n",
        "        algo=tpe.suggest,\n",
        "    \t\tmax_evals=evals,\n",
        "    \t\ttrials = rf_trials)\n",
        "\n",
        "print(rf_best)"
      ],
      "execution_count": 24,
      "outputs": [
        {
          "output_type": "stream",
          "text": [
            "100%|██████████| 5/5 [13:21<00:00, 160.26s/it, best loss: -0.7506110322430217]\n",
            "{'criterion': 0, 'max_depth': 9, 'max_features': 1, 'n_estimators': 45}\n"
          ],
          "name": "stdout"
        }
      ]
    },
    {
      "cell_type": "markdown",
      "metadata": {
        "id": "dsoBUdjQ9HfC"
      },
      "source": [
        "Now for SMOTE:"
      ]
    },
    {
      "cell_type": "code",
      "metadata": {
        "colab": {
          "base_uri": "https://localhost:8080/"
        },
        "id": "Am7NJR3G9OJg",
        "outputId": "f0da6e9b-0f33-4343-c7ec-4e89d216d61b"
      },
      "source": [
        "rf_trials_smote = Trials()\n",
        "\n",
        "# Defines the objective function\n",
        "def random_forest_tuner_smote(params):\n",
        "    model = RandomForestClassifier(**params)\n",
        "    # Gets auroc score from model predictions using cross validation, k=5\n",
        "    # inherently makes a validation set to use\n",
        "    auroc = cross_val_score(model, X_train_smote, y_train_smote, cv=5,\n",
        "                            scoring='roc_auc').mean()\n",
        "    # Minimizes function, therefore -auroc\n",
        "    return {\"loss\": -auroc, \"status\": STATUS_OK}\n",
        "\n",
        "random_forest_space_smote = {\n",
        "    \"max_features\": hp.choice('max_features',max_features),\n",
        "    \"criterion\": hp.choice('criterion', criteria),\n",
        "    \"max_depth\": hp.choice('max_depth', np.arange(1, 12, dtype=int)),\n",
        "    \"n_estimators\": hp.choice('n_estimators',np.arange(20,100, dtype=int))\n",
        "}\n",
        "\n",
        "rf_best_smote = fmin(fn=random_forest_tuner_smote,\n",
        "    \t\tspace=random_forest_space_smote,\n",
        "        algo=tpe.suggest,\n",
        "    \t\tmax_evals=evals,\n",
        "    \t\ttrials = rf_trials_smote)\n",
        "\n",
        "print(rf_best_smote)"
      ],
      "execution_count": 25,
      "outputs": [
        {
          "output_type": "stream",
          "text": [
            "100%|██████████| 5/5 [03:22<00:00, 40.58s/it, best loss: -0.9412889682368217]\n",
            "{'criterion': 1, 'max_depth': 9, 'max_features': 0, 'n_estimators': 33}\n"
          ],
          "name": "stdout"
        }
      ]
    },
    {
      "cell_type": "markdown",
      "metadata": {
        "id": "9KX3UhpDjwDz"
      },
      "source": [
        "### AdaBoost\n",
        "Now, let's do the same thing with another algorithm, AdaBoost."
      ]
    },
    {
      "cell_type": "code",
      "metadata": {
        "colab": {
          "base_uri": "https://localhost:8080/"
        },
        "id": "1v1QC_WAjx7e",
        "outputId": "21d27670-7d83-47be-c049-27202b61c210"
      },
      "source": [
        "from sklearn.ensemble import AdaBoostClassifier\n",
        "\n",
        "ada_trials_smote = Trials()\n",
        "\n",
        "# Defines the objective function\n",
        "def adaboost_tuner_smote(params):\n",
        "    model = AdaBoostClassifier(**params)\n",
        "    # Gets auroc score from model predictions using cross validation, k=5\n",
        "    # inherently makes a validation set to use\n",
        "    auroc = cross_val_score(model, X_train_smote, y_train_smote, cv=5,\n",
        "                            scoring='roc_auc').mean()\n",
        "    # Minimizes function, therefore -auroc\n",
        "    return {\"loss\": -auroc, \"status\": STATUS_OK}\n",
        "\n",
        "\n",
        "adaboost_space_smote = {\n",
        "    \"learning_rate\": hp.uniform('learning_rate',0.1,1.5),\n",
        "    \"n_estimators\": hp.choice('n_estimators',np.arange(20,100, dtype=int))\n",
        "}\n",
        "\n",
        "ada_best_smote = fmin(fn=adaboost_tuner_smote,\n",
        "    \t\tspace=adaboost_space_smote,\n",
        "        algo=tpe.suggest,\n",
        "    \t\tmax_evals=evals,\n",
        "    \t\ttrials = ada_trials_smote)\n",
        "\n",
        "print(ada_best_smote)"
      ],
      "execution_count": 26,
      "outputs": [
        {
          "output_type": "stream",
          "text": [
            "100%|██████████| 5/5 [05:38<00:00, 67.66s/it, best loss: -0.9397223938574151]\n",
            "{'learning_rate': 0.5357261411152966, 'n_estimators': 64}\n"
          ],
          "name": "stdout"
        }
      ]
    },
    {
      "cell_type": "markdown",
      "metadata": {
        "id": "jcwEIOev1vzK"
      },
      "source": [
        "### XGBoost\n",
        "\n",
        "Finally, let's do gradient boosting using XGBoost."
      ]
    },
    {
      "cell_type": "code",
      "metadata": {
        "colab": {
          "base_uri": "https://localhost:8080/"
        },
        "id": "zR1Irb2D1uew",
        "outputId": "c0e855df-c822-4f49-d0a5-68913aa1a255"
      },
      "source": [
        "from xgboost import XGBClassifier\n",
        "xgb_trials_smote = Trials()\n",
        "\n",
        "# Defines the objective function\n",
        "def xgb_tuner_smote(params):\n",
        "    model = XGBClassifier(**params)\n",
        "    # Gets auroc score from model predictions using cross validation, k=5\n",
        "    # inherently makes a validation set to use\n",
        "    auroc = cross_val_score(model, X_train_smote, y_train_smote, cv=5,\n",
        "                            scoring='roc_auc').mean()\n",
        "    # Minimizes function, therefore -auroc\n",
        "    return {\"loss\": -auroc, \"status\": STATUS_OK}\n",
        "\n",
        "xgb_space_smote = {\n",
        "    \"eta\": hp.quniform('eta', 0.025, 0.5, 0.025),\n",
        "    \"max_depth\": hp.choice('max_depth', np.arange(1, 12, dtype=int)),\n",
        "    \"n_estimators\": hp.choice('n_estimators',np.arange(20,100, dtype=int)),\n",
        "    \"min_child_weight\": hp.quniform('min_child_weight', 1, 5, 1)\n",
        "}\n",
        "\n",
        "xgb_best_smote = fmin(fn=xgb_tuner_smote,\n",
        "    \t\tspace=xgb_space_smote,\n",
        "        algo=tpe.suggest,\n",
        "    \t\tmax_evals=evals,\n",
        "    \t\ttrials = xgb_trials_smote)\n",
        "\n",
        "print(xgb_best_smote)"
      ],
      "execution_count": 27,
      "outputs": [
        {
          "output_type": "stream",
          "text": [
            "100%|██████████| 5/5 [03:06<00:00, 37.36s/it, best loss: -0.9499849208824284]\n",
            "{'eta': 0.325, 'max_depth': 9, 'min_child_weight': 4.0, 'n_estimators': 25}\n"
          ],
          "name": "stdout"
        }
      ]
    },
    {
      "cell_type": "markdown",
      "metadata": {
        "id": "hSd77b1mXAi6"
      },
      "source": [
        "## Step 5: Model Evaluation"
      ]
    },
    {
      "cell_type": "markdown",
      "metadata": {
        "id": "c_7W2zdotiE7"
      },
      "source": [
        "Now, using the learned hyperparameters, we can evaluate the best of each model and determine how good each one was... starting with Random Forest"
      ]
    },
    {
      "cell_type": "markdown",
      "metadata": {
        "id": "uM72kxypt2WF"
      },
      "source": [
        "### Random Forest"
      ]
    },
    {
      "cell_type": "code",
      "metadata": {
        "colab": {
          "base_uri": "https://localhost:8080/"
        },
        "id": "iiZSKocwG0Q7",
        "outputId": "8f43616e-d3c5-4b4a-d68d-3516a93adad7"
      },
      "source": [
        "from sklearn.metrics import roc_auc_score, f1_score\n",
        "\n",
        "# Creates model using optimal hyperparameters\n",
        "rf_model = RandomForestClassifier(\n",
        "    max_features=max_features[rf_best['max_features']],\n",
        "    criterion=criteria[rf_best['criterion']],\n",
        "    max_depth=rf_best['max_depth'],\n",
        "    n_estimators=rf_best['n_estimators'],\n",
        ")\n",
        "\n",
        "# Fits the model\n",
        "rf_model.fit(X_train,y_train)\n",
        "\n",
        "# Predicts using the test set\n",
        "y_predict_rf = rf_model.predict(X_test)\n",
        "y_predict_p_rf = rf_model.predict_proba(X_test)[:,1]\n",
        "# Computes auroc score\n",
        "auroc_rf = roc_auc_score(y_true=y_test,y_score=y_predict_p_rf)\n",
        "print('Auroc score: {}'.format(auroc_rf))\n",
        "# Computes f1 score\n",
        "f1_rf = f1_score(y_true=y_test,y_pred=y_predict_rf)\n",
        "print('F1 score: {}'.format(f1_rf))"
      ],
      "execution_count": 54,
      "outputs": [
        {
          "output_type": "stream",
          "text": [
            "Auroc score: 0.7531209606907507\n",
            "F1 score: 0.0\n"
          ],
          "name": "stdout"
        }
      ]
    },
    {
      "cell_type": "markdown",
      "metadata": {
        "id": "WZjKPEIZt-qo"
      },
      "source": [
        "The F1 score is 0! That asserts that we don't reasonably know how the model performed on certain classifications. More likely than not, since this is the imbalanced dataset, the majority class (not Fraud) was picked every time. We can confirm this with a confusion matrix."
      ]
    },
    {
      "cell_type": "code",
      "metadata": {
        "colab": {
          "base_uri": "https://localhost:8080/"
        },
        "id": "6jvuwbUruipr",
        "outputId": "cc34e366-6928-4a54-f4e0-d9a05f674dff"
      },
      "source": [
        "from sklearn.metrics import confusion_matrix\n",
        "\n",
        "print(confusion_matrix(y_test, y_predict_rf))"
      ],
      "execution_count": 55,
      "outputs": [
        {
          "output_type": "stream",
          "text": [
            "[[126195      0]\n",
            " [  2188      0]]\n"
          ],
          "name": "stdout"
        }
      ]
    },
    {
      "cell_type": "markdown",
      "metadata": {
        "id": "7dp1AO32t5Hi"
      },
      "source": [
        "Now, let's report on the evaluation for the SMOTE'd set):"
      ]
    },
    {
      "cell_type": "code",
      "metadata": {
        "colab": {
          "base_uri": "https://localhost:8080/"
        },
        "id": "g-XyWIfdWf3P",
        "outputId": "52786560-7655-45c5-a5bf-3c0ebd3dc68e"
      },
      "source": [
        "from sklearn.metrics import accuracy_score\n",
        "\n",
        "# Creates model using optimal hyperparameters\n",
        "rf_model_smote = RandomForestClassifier(\n",
        "    max_features=max_features[rf_best_smote['max_features']],\n",
        "    criterion=criteria[rf_best_smote['criterion']],\n",
        "    max_depth=rf_best_smote['max_depth'],\n",
        "    n_estimators=rf_best_smote['n_estimators'],\n",
        ")\n",
        "\n",
        "# Fits the model\n",
        "rf_model_smote.fit(X_train_smote,y_train_smote)\n",
        "\n",
        "# Predicts using the test set\n",
        "y_predict_rf_smote = rf_model_smote.predict(X_test)\n",
        "y_predict_p_rf_smote = rf_model_smote.predict_proba(X_test)[:,1]\n",
        "# Computes auroc score\n",
        "auroc_rf_smote = roc_auc_score(y_true=y_test,y_score=y_predict_p_rf_smote)\n",
        "print('Auroc score: {}'.format(auroc_rf_smote))\n",
        "# Computes f1 score\n",
        "f1_rf_smote = f1_score(y_true=y_test,y_pred=y_predict_rf_smote)\n",
        "print('F1 score: {}'.format(f1_rf_smote))"
      ],
      "execution_count": 56,
      "outputs": [
        {
          "output_type": "stream",
          "text": [
            "Auroc score: 0.7246945326988433\n",
            "F1 score: 0.0857142857142857\n"
          ],
          "name": "stdout"
        }
      ]
    },
    {
      "cell_type": "markdown",
      "metadata": {
        "id": "N5dQUFWcwW45"
      },
      "source": [
        "Notice the considerable improvement, and the non-zero F1 score! Now, we can plot the ROC curve and compare how well the imbalanced data and the balanced data do against one another."
      ]
    },
    {
      "cell_type": "code",
      "metadata": {
        "colab": {
          "base_uri": "https://localhost:8080/",
          "height": 301
        },
        "id": "X98jnNVbKvPG",
        "outputId": "586cdea1-89ce-4b8a-e59e-660dfadc2646"
      },
      "source": [
        "from sklearn.metrics import roc_curve\n",
        "\n",
        "# Plots the ROC curves\n",
        "fpr, tpr, threshold = roc_curve(\n",
        "    y_true=y_test,y_score=y_predict_p_rf)\n",
        "fpr_smote, tpr_smote, threshold = roc_curve(\n",
        "    y_true=y_test,y_score=y_predict_p_rf_smote)\n",
        "\n",
        "plt.title('Original Data vs. Balanced Data on Random Forest')\n",
        "plt.plot([0, 0], [1, 0] , c=\".7\"), plt.plot([1, 1] , c=\".7\")\n",
        "plt.plot(fpr, tpr, 'b',label='Original')\n",
        "plt.plot(fpr_smote, tpr_smote, 'g',label='Balanced')\n",
        "plt.plot([0, 1], ls=\"--\",c='r')\n",
        "plt.ylabel('True Positive Rate')\n",
        "plt.xlabel('False Positive Rate')\n",
        "plt.legend(loc='lower right')\n",
        "plt.show()"
      ],
      "execution_count": 57,
      "outputs": [
        {
          "output_type": "display_data",
          "data": {
            "image/png": "[encoded data removed]",
            "text/plain": [
              "<Figure size 432x288 with 1 Axes>"
            ]
          },
          "metadata": {
            "tags": []
          }
        }
      ]
    },
    {
      "cell_type": "markdown",
      "metadata": {
        "id": "3aqLE-eIcVKE"
      },
      "source": [
        "At first glance, the balanced dataset was not of that much help. Remember though, this balanced set is able to make predictions other than just \"normal\", as shown below. Also, the significant decrease in the size of the dataset causes for a significant decrease in computational resources."
      ]
    },
    {
      "cell_type": "code",
      "metadata": {
        "colab": {
          "base_uri": "https://localhost:8080/"
        },
        "id": "KzXmbqag6x40",
        "outputId": "e5ff1e48-3dad-45af-8a20-96d6f9c643db"
      },
      "source": [
        "print(confusion_matrix(y_test, y_predict_rf_smote))"
      ],
      "execution_count": 58,
      "outputs": [
        {
          "output_type": "stream",
          "text": [
            "[[117194   9001]\n",
            " [  1687    501]]\n"
          ],
          "name": "stdout"
        }
      ]
    },
    {
      "cell_type": "markdown",
      "metadata": {
        "id": "JT8KjrgLzNRM"
      },
      "source": [
        "### AdaBoost\n",
        "\n",
        "Remember, from this point on, we're just performing metrics on the balanced dataset (the SMOTE dataset)."
      ]
    },
    {
      "cell_type": "code",
      "metadata": {
        "colab": {
          "base_uri": "https://localhost:8080/"
        },
        "id": "0vd_a_FbzQHO",
        "outputId": "866e7d18-5085-403e-f803-37fcc79f592a"
      },
      "source": [
        "# Creates model using optimal hyperparameters\n",
        "ada_model = AdaBoostClassifier(\n",
        "    learning_rate=ada_best_smote['learning_rate'],\n",
        "    n_estimators=ada_best_smote['n_estimators']\n",
        ")\n",
        "\n",
        "# Fits the model\n",
        "ada_model.fit(X_train_smote,y_train_smote)\n",
        "\n",
        "# Predicts using the test set\n",
        "y_predict_ada = ada_model.predict(X_test)\n",
        "y_predict_p_ada = ada_model.predict_proba(X_test)[:,1]\n",
        "# Computes auroc score\n",
        "auroc_ada = roc_auc_score(y_true=y_test,y_score=y_predict_p_ada)\n",
        "print('Auroc score: {}'.format(auroc_ada))\n",
        "# Computes f1 score\n",
        "f1_ada = f1_score(y_true=y_test,y_pred=y_predict_ada)\n",
        "print('F1 score: {}'.format(f1_ada))"
      ],
      "execution_count": 59,
      "outputs": [
        {
          "output_type": "stream",
          "text": [
            "Auroc score: 0.7309813394189211\n",
            "F1 score: 0.08739152628892294\n"
          ],
          "name": "stdout"
        }
      ]
    },
    {
      "cell_type": "markdown",
      "metadata": {
        "id": "R8WZbzNd77h4"
      },
      "source": [
        "Now to plot the ROC curve..."
      ]
    },
    {
      "cell_type": "code",
      "metadata": {
        "colab": {
          "base_uri": "https://localhost:8080/",
          "height": 301
        },
        "id": "8bxLFTwZ798E",
        "outputId": "8f232c96-0d02-4046-c963-ef5c43ae98b9"
      },
      "source": [
        "# Plots the ROC curves\n",
        "ada_fpr, ada_tpr, threshold = roc_curve(\n",
        "    y_true=y_test,y_score=y_predict_p_ada)\n",
        "\n",
        "plt.title('ROC Curve on AdaBoost')\n",
        "plt.plot(ada_fpr, ada_tpr)\n",
        "plt.plot([0, 0], [1, 0] , c=\".7\"), plt.plot([1, 1] , c=\".7\")\n",
        "plt.plot([0, 1], ls=\"--\")\n",
        "plt.ylabel('True Positive Rate')\n",
        "plt.xlabel('False Positive Rate')\n",
        "plt.show()"
      ],
      "execution_count": 60,
      "outputs": [
        {
          "output_type": "display_data",
          "data": {
            "image/png": "[encoded data removed]",
            "text/plain": [
              "<Figure size 432x288 with 1 Axes>"
            ]
          },
          "metadata": {
            "tags": []
          }
        }
      ]
    },
    {
      "cell_type": "markdown",
      "metadata": {
        "id": "FOjB1m688m9f"
      },
      "source": [
        "### XGBoost\n",
        "\n",
        "Finally, let's see the results on XGBoost."
      ]
    },
    {
      "cell_type": "code",
      "metadata": {
        "colab": {
          "base_uri": "https://localhost:8080/"
        },
        "id": "kfj0lfTg8tNO",
        "outputId": "458ee287-ef81-4492-856f-af32361da34a"
      },
      "source": [
        "# Creates model using optimal hyperparameters\n",
        "xgb_model = XGBClassifier(\n",
        "    eta=xgb_best_smote['eta'],\n",
        "    max_depth=xgb_best_smote['max_depth'],\n",
        "    n_estimators=xgb_best_smote['n_estimators'],\n",
        "    min_child_weight=xgb_best_smote['min_child_weight'],\n",
        ")\n",
        "\n",
        "# Fits the model\n",
        "xgb_model.fit(X_train_smote,y_train_smote)\n",
        "\n",
        "# Predicts using the test set\n",
        "y_predict_xgb = xgb_model.predict(X_test)\n",
        "y_predict_p_xgb = xgb_model.predict_proba(X_test)[:,1]\n",
        "# Computes auroc score\n",
        "auroc_xgb = roc_auc_score(y_true=y_test,y_score=y_predict_p_xgb)\n",
        "print('Auroc score: {}'.format(auroc_xgb))\n",
        "# Computes f1 score\n",
        "f1_xgb = f1_score(y_true=y_test,y_pred=y_predict_xgb)\n",
        "print('F1 score: {}'.format(f1_xgb))"
      ],
      "execution_count": 61,
      "outputs": [
        {
          "output_type": "stream",
          "text": [
            "Auroc score: 0.7566790658634351\n",
            "F1 score: 0.09085768143261075\n"
          ],
          "name": "stdout"
        }
      ]
    },
    {
      "cell_type": "markdown",
      "metadata": {
        "id": "TGRX3krT857V"
      },
      "source": [
        "... and the ROC Curve..."
      ]
    },
    {
      "cell_type": "code",
      "metadata": {
        "colab": {
          "base_uri": "https://localhost:8080/",
          "height": 301
        },
        "id": "T98olC_e85ag",
        "outputId": "826de90c-ea89-4fec-8001-aab7880e2bfe"
      },
      "source": [
        "# Plots the ROC curves\n",
        "xgb_fpr, xgb_tpr, threshold = roc_curve(\n",
        "    y_true=y_test,y_score=y_predict_p_xgb)\n",
        "\n",
        "plt.title('ROC Curve on XGBoost')\n",
        "plt.plot(xgb_fpr, xgb_tpr)\n",
        "plt.plot([0, 0], [1, 0] , c=\".7\"), plt.plot([1, 1] , c=\".7\")\n",
        "plt.plot([0, 1], ls=\"--\")\n",
        "plt.ylabel('True Positive Rate')\n",
        "plt.xlabel('False Positive Rate')\n",
        "plt.show()"
      ],
      "execution_count": 62,
      "outputs": [
        {
          "output_type": "display_data",
          "data": {
            "image/png": "[encoded data removed]",
            "text/plain": [
              "<Figure size 432x288 with 1 Axes>"
            ]
          },
          "metadata": {
            "tags": []
          }
        }
      ]
    },
    {
      "cell_type": "markdown",
      "metadata": {
        "id": "659JTIS3IjYn"
      },
      "source": [
        "## Conclusion\n",
        "\n",
        "When comparing the models, it appears that XGBoost is the best model for learning the data. This is summarized in the following table of evaluation metrics:"
      ]
    },
    {
      "cell_type": "code",
      "metadata": {
        "colab": {
          "base_uri": "https://localhost:8080/",
          "height": 311
        },
        "id": "IIvyNXCdLEfv",
        "outputId": "2c863ac1-ca53-49d4-bc7b-9bef5a812711"
      },
      "source": [
        "# Creates labels and data\n",
        "r_labels = ['Random Forest','AdaBoost','XGBoost']\n",
        "c_labels = ['AUROC','F1']\n",
        "table = np.array([[auroc_rf_smote,f1_rf_smote],\n",
        "                  [auroc_ada,f1_ada],\n",
        "                  [auroc_xgb,f1_xgb]])\n",
        "\n",
        "# Creates an undelying table for color hues\n",
        "best_table = np.zeros(shape=table.shape)\n",
        "i=0\n",
        "for val in np.argmax(table,axis=0):\n",
        "  best_table[val,i] = 1\n",
        "  i += 1\n",
        "\n",
        "# Plots the data\n",
        "fig, ax, = plt.subplots()\n",
        "ax.matshow(best_table,cmap='Pastel2')\n",
        "ax.set_yticklabels(['spooky'] + r_labels)\n",
        "ax.set_xticklabels(['ghost'] + c_labels)\n",
        "ax.set_title('Metrics Performed on Models\\n\\n')\n",
        "# Places metric data inside of matrix\n",
        "for x in range(table.shape[1]):\n",
        "  for y in range(table.shape[0]):\n",
        "    c = '{0:.3f}'.format(table[y,x])\n",
        "    ax.text(x, y, c, va='center', ha='center')\n",
        "\n",
        "plt.show()"
      ],
      "execution_count": 63,
      "outputs": [
        {
          "output_type": "display_data",
          "data": {
            "image/png": "[encoded data removed]",
            "text/plain": [
              "<Figure size 432x288 with 1 Axes>"
            ]
          },
          "metadata": {
            "tags": []
          }
        }
      ]
    },
    {
      "cell_type": "markdown",
      "metadata": {
        "id": "YuyBXFzSLFdQ"
      },
      "source": [
        "... and also seen from this zoomed in comparison of the ROC Curves..."
      ]
    },
    {
      "cell_type": "code",
      "metadata": {
        "colab": {
          "base_uri": "https://localhost:8080/",
          "height": 301
        },
        "id": "HPufQbrfIr80",
        "outputId": "83e9d749-cb99-4151-d631-b195bafd697c"
      },
      "source": [
        "plt.title('Comparison of Models')\n",
        "plt.plot([0, 0], [1, 0] , c=\".7\"), plt.plot([1, 1] , c=\".7\")\n",
        "plt.plot(fpr_smote, tpr_smote, 'lime',label='Random Forest')\n",
        "plt.plot(ada_fpr, ada_tpr, 'green',label='AdaBoost')\n",
        "plt.plot(xgb_fpr, xgb_tpr, 'navy',label='XGBoost')\n",
        "plt.plot([0, 1], ls=\"--\",c='r')\n",
        "plt.ylim(bottom=0.6)\n",
        "plt.ylabel('True Positive Rate')\n",
        "plt.xlabel('False Positive Rate')\n",
        "plt.legend(loc='lower right')\n",
        "plt.show()"
      ],
      "execution_count": 64,
      "outputs": [
        {
          "output_type": "display_data",
          "data": {
            "image/png": "[encoded data removed]",
            "text/plain": [
              "<Figure size 432x288 with 1 Axes>"
            ]
          },
          "metadata": {
            "tags": []
          }
        }
      ]
    },
    {
      "cell_type": "markdown",
      "metadata": {
        "id": "muIS7Y9mOuSb"
      },
      "source": [
        "XGBoost was suspected to be the most favorable algorithm because of how it uses gradient boosting to create an optimal set of decision trees. The weak learners it produces are very powerful optimizers, so it is no surprise why it did so well."
      ]
    },
    {
      "cell_type": "markdown",
      "metadata": {
        "id": "2zvzjBYSRsss"
      },
      "source": [
        "## Future\n",
        "\n",
        "One of the major drawbacks to the above models was the lack of variety. Introducing neural networks may provide more favorable results, as well as other types of learners.\n",
        "\n",
        "For sake of running this notebook in a reasonable time, the meta-parameter `evals` was set to a mere 5 iterations. Bayesian Optimization works better in the 100+ range, so increasing that may produce the best hyperparameters to be used for the models.\n",
        "\n",
        "One last thing difference that could produce better results is to alter how much SMOTE and Undersampling are done to the data. Overall, these changes serve to make for a much more accurate set of models."
      ]
    },
    {
      "cell_type": "markdown",
      "metadata": {
        "id": "5f-zRrg4dfK2"
      },
      "source": [
        "## Citations\n",
        "[1] J. Brownlee, \"SMOTE for Imbalanced Classification with Python\", 17-Jan-2020. [Online]. Available: https://machinelearningmastery.com/smote-oversampling-for-imbalanced-classification/. [Accessed: 06-Dec-2020]\n",
        "\n",
        "[2] \"How to plot a ROC Curve in Python?\". [Online]. Available: https://www.dezyre.com/recipes/plot-roc-curve-in-python/. [Accessed:07-Dec-2020]"
      ]
    }
  ]
}